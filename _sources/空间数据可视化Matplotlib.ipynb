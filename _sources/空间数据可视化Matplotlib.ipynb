{
 "cells": [
  {
   "cell_type": "markdown",
   "id": "d6c8664b-caf9-49b2-a886-61db9bf5cf7e",
   "metadata": {
    "tags": [],
    "user_expressions": []
   },
   "source": [
    "**空间数据可视化**\n",
    "\n",
    "可视化是地理空间数据分析中的一项重要内容，基于Python的可视化库非常之多，其中**Matplotlib**是Python的默认可视化库，拥有着最丰富的生态体系，Seaborn、WordCloud、PlotNine等都是其重要的衍生库。**Plotly**借鉴了大名鼎鼎的D3.JS，在各种交互可视化库还不那么成熟的几年前，凭借着其灵活性，一跃成为可视化绘图的主流。**HoloViz**是Anaconda资助的可视化项目。目前形成了以Bokeh为中心和底层，以HoloViews和Panel为主打产品的Python第二大可视化生态系统。"
   ]
  },
  {
   "cell_type": "markdown",
   "id": "f9765e38-d1ca-4787-b2d1-23678cdb8fbf",
   "metadata": {
    "tags": [],
    "user_expressions": []
   },
   "source": [
    "# **Matplotlib绘图基础**\n",
    "pyplot是matplotlib的重要子库，是一个类似命令风格的函数集合，因此matplotlib中的绘图用法与工作方式和Matlab极为相似。pyplot提供了可以用来绘图的各种函数，这些函数都可对图形进行一些更改操作，如创建一个画布，在画布中创建一个绘图区域，或在绘图区域内添加一些线并用标签修饰图形等。\n",
    "## 基本绘图用法\n",
    "plot()是matplotlib的一个通用函数，使用plot()函数可快速的绘制出一个简单的图形："
   ]
  },
  {
   "cell_type": "code",
   "execution_count": null,
   "id": "448494b7-1495-4972-bfdd-e9cb0c50d7a2",
   "metadata": {},
   "outputs": [],
   "source": [
    "import matplotlib.pyplot as plt\n",
    "plt.plot([1, 2, 3, 4])\n",
    "plt.ylabel('some numbers')\n",
    "plt.show()"
   ]
  },
  {
   "cell_type": "code",
   "execution_count": null,
   "id": "798f003e-97d4-4288-a982-00b1c43dec09",
   "metadata": {},
   "outputs": [],
   "source": [
    "import numpy as np\n",
    "import math\n",
    "\n",
    "x = np.arange(0, math.pi*2, 0.05)\n",
    "y = np.sin(x)\n",
    "plt.plot(x,y)\n",
    "plt.show()"
   ]
  },
  {
   "cell_type": "markdown",
   "id": "26398ff6-91fb-454f-bf85-a4c0221f70e3",
   "metadata": {
    "user_expressions": []
   },
   "source": [
    "## figure对象\n",
    "创建图形对象是matplotlib中面向对象编程的核心思想，通过图形对象来调用其它的方法和属性有助于我们更好地处理多个画布。`matplotlib.figure`图形类模块包含了创建图形对象的方法，可通过调用pyplot的figure()函数来实例化图形对象。figure()函数的参数值如下表所示：\n",
    "\n",
    "\n",
    "参数 | 说明 \n",
    "| - | :-: \n",
    "figsize | 指定画布的大小，(宽度,高度)，单位为英寸\n",
    "dpi | 指定绘图对象的分辨率，即每英寸多少个像素，默认值为80\n",
    "facecolor | 背景颜色\n",
    "edgecolor | 边框颜色\n",
    "frameon | 是否显示边框(True,False)"
   ]
  },
  {
   "cell_type": "code",
   "execution_count": null,
   "id": "f677f2f0-733d-4dee-be3d-0fc6e7cbcb35",
   "metadata": {},
   "outputs": [],
   "source": [
    "x = np.arange(0, math.pi*2, 0.05)\n",
    "y = np.sin(x)\n",
    "# 创建图形对象\n",
    "plt.figure(figsize=(8,6))\n",
    "plt.plot(x,y)\n",
    "plt.show()"
   ]
  },
  {
   "cell_type": "markdown",
   "id": "e342ca39-843b-406b-ad8b-5cd81783d682",
   "metadata": {
    "user_expressions": []
   },
   "source": [
    "## axes对象\n",
    "axes是matplotlib中用于指定一个有数值范围限制的绘图区域的轴域对象，在一个给定的画布中可以包含多个axes对象，但是同一个axes对象只能在一个画布中使用。add_axes()方法能够将axes对象添加到画布中,对象的位置由参数`rect`决定，`rect`位置参数接受一个由形如[left, bottom, width, height]的4个元素组成的浮点数列表，它表示添加到画布中的矩形区域的左下角坐标(x,y)，以及宽度和高度。\n",
    "\n",
    "axes对象还提供了legend()方法用于绘制画布中的图例，该方法包含了三个参数：\n",
    "- handles：包含所有线型的实例序列\n",
    "- labels：用来指定标签名称的字符串序列\n",
    "- loc：指定图例位置的参数，其参数值可以用字符串或整数来表示\n",
    "\n",
    "其中loc参数的可选表示方法如下表所示：\n",
    "\n",
    "位置 | 字符串表示 | 整数数字表示   \n",
    "| - | :-: | :-:   \n",
    "自适应 | Best | 0   \n",
    "右上方 | upper right | 1   \n",
    "左上方 | upper left | 2   \n",
    "左下方 | lower left | 3   \n",
    "右下方 | lower right | 4   \n",
    "右侧 | right | 5   \n",
    "居中靠左 | center left | 6   \n",
    "居中靠右 | center right | 7   \n",
    "底部居中 | lower center | 8   \n",
    "上部居中 | upper center | 9   \n",
    "中部 | center | 10   "
   ]
  },
  {
   "cell_type": "code",
   "execution_count": null,
   "id": "b523ad8e-c918-4a64-a4cf-bedf10f4401e",
   "metadata": {},
   "outputs": [],
   "source": [
    "y = [1, 4, 9, 16, 25,36,49, 64]\n",
    "x1 = [1, 16, 30, 42,55, 68, 77,88]\n",
    "x2 = [1,6,12,18,28, 40, 52, 65]\n",
    "fig = plt.figure()\n",
    "ax = fig.add_axes([0,0,1,1])\n",
    "l1 = ax.plot(x1,y) \n",
    "l2 = ax.plot(x2,y)\n",
    "ax.legend(labels = ('TV', 'Smartphone'), loc = 'lower right') \n",
    "ax.set_title(\"Advertisement effect on sales\")\n",
    "ax.set_xlabel('medium')\n",
    "ax.set_ylabel('sales')\n",
    "plt.show()"
   ]
  },
  {
   "cell_type": "markdown",
   "id": "a0d0063a-ba58-47f9-a9a0-68429696848a",
   "metadata": {
    "tags": [],
    "user_expressions": []
   },
   "source": [
    "## 绘图样式\n",
    "plot()方法具有可选格式的字符串参数，用于指定线型、线宽、颜色、标记及标记大小。颜色可使用十六进制字符串('#008000')，也可用以下字符表示：\n",
    "    \n",
    "颜色字符 | 说明 \n",
    "| - | :-:   \n",
    "'b' | 蓝色\n",
    "'g' | 绿色\n",
    "'r' | 红色\n",
    "'c' | 青色\n",
    "'m' | 品红色\n",
    "'y' | 黄色\n",
    "'k' | 黑色\n",
    "'w' | 白色\n",
    "'0.8' | 灰度值。\\[0,1\\]之间浮点数表示灰度值，0表示黑色，1表示白色，0.2表示深灰，0.8表示浅灰。\n",
    "\n",
    "可选的标记符号字符串如下：\n",
    "\n",
    "标记符号 | 说明 | 标记符号 | 说明 | 标记符号 | 说明\n",
    "| - | :-: | :-: | :-: | :-: | :-:\n",
    "'.' | 点标记 | '1' | 下花三角标记 | 'h' | 竖六边形标记\n",
    "',' | 像素标记（极小点）| '2' | 上花三角标记 | 'H' | 横六边形标记\n",
    "'o' | 实心圈标记 | '3' | 左花三角标记 | '+' | 十字标记\n",
    "'v' | 倒三角标记 | '4' | 右花三角标记 | 'x' | x标记\n",
    "'^' | 上三角标记 | 's' | 实心方形标记 | 'D' | 菱形标记\n",
    "'>' | 右三角标记 | 'p' | 实心五角标记 | 'd' | 瘦菱形标记\n",
    "'<' | 左三角标记 | '*' | 星形标记 | '\\|' | 垂直线标记 \n",
    "\n",
    "线型参数如下：\n",
    "    \n",
    "线型 | 说明\n",
    "| - | :-:\n",
    "'-' | 实线\n",
    "'--' | 虚线 \n",
    "'-.' | 点划线\n",
    "':' | 点线"
   ]
  },
  {
   "cell_type": "code",
   "execution_count": null,
   "id": "93403e4e-fd88-424d-bdfc-e6d1104b6c48",
   "metadata": {},
   "outputs": [],
   "source": [
    "y = [1, 4, 9, 16, 25,36,49, 64]\n",
    "x1 = [1, 16, 30, 42,55, 68, 77,88]\n",
    "x2 = [1,6,12,18,28, 40, 52, 65]\n",
    "fig = plt.figure()\n",
    "ax = fig.add_axes([0,0,1,1])\n",
    "#使用简写的形式color/标记符/线型\n",
    "l1 = ax.plot(x1,y,'ys-',linewidth=2, markersize=5) \n",
    "l2 = ax.plot(x2,y,color='green', marker='o', linestyle='dashed',linewidth=2, markersize=8) \n",
    "ax.legend(labels = ('TV', 'Smartphone'), loc = 'lower right') \n",
    "ax.set_title(\"Advertisement effect on sales\")\n",
    "ax.set_xlabel('medium')\n",
    "ax.set_ylabel('sales')\n",
    "plt.show()"
   ]
  },
  {
   "cell_type": "markdown",
   "id": "ffd5fb6c-9b5f-4aed-a28a-66e771ca96a8",
   "metadata": {
    "user_expressions": []
   },
   "source": [
    "## 绘制子图\n",
    "Matplotlib提供了subplot()和subplots()函数用于在同一画布上绘制多个子图，这两个函数的不同之处在于，subplot()只是创建一个包含子图区域的画布，而subplots()既创建了一个包含子图区域的画布，又创建了一个figure图形对象。subplot()与subplots()函数的参数格式如下：\n",
    "- plt.subplot(nrows, ncols, index)\n",
    "- fig , ax = plt.subplots(nrows, ncols)\n",
    "\n",
    "在subplot()函数中nrows与ncols表示要划分几行几列的子区域（nrows * nclos表示子图数量），index的初始值为1，用来选定具体的某个子区域。subplots()函数中nrows与ncols表示两个整数参数，用于指定子图所占的行、列数，函数的返回值是一个元组，包括一个图形对象和所有的axes对象。其中axes对象的数量等于nrows * ncols，且每个axes对象均可通过索引值访问（从1开始）。"
   ]
  },
  {
   "cell_type": "code",
   "execution_count": null,
   "id": "56a635f5-cb1a-4626-b48e-6c72530f6cee",
   "metadata": {},
   "outputs": [],
   "source": [
    "def f(t):\n",
    "    return np.exp(-t) * np.cos(2*np.pi*t)\n",
    "\n",
    "t1 = np.arange(0.0, 5.0, 0.1)\n",
    "t2 = np.arange(0.0, 5.0, 0.02)\n",
    "\n",
    "plt.figure()\n",
    "plt.subplot(211)\n",
    "plt.plot(t1, f(t1), 'bo', t2, f(t2), 'k')\n",
    "\n",
    "plt.subplot(212)\n",
    "plt.plot(t2, np.cos(2*np.pi*t2), 'r--')\n",
    "plt.show()"
   ]
  },
  {
   "cell_type": "code",
   "execution_count": null,
   "id": "b5d483c6-97a1-4043-8744-96bbdef77270",
   "metadata": {},
   "outputs": [],
   "source": [
    "fig,a =  plt.subplots(2,2)\n",
    "x = np.arange(1,5)\n",
    "#绘制平方函数\n",
    "a[0][0].plot(x,x*x)\n",
    "a[0][0].set_title('square')\n",
    "#绘制平方根图像\n",
    "a[0][1].plot(x,np.sqrt(x))\n",
    "a[0][1].set_title('square root')\n",
    "#绘制指数函数\n",
    "a[1][0].plot(x,np.exp(x))\n",
    "a[1][0].set_title('exp')\n",
    "#绘制对数函数\n",
    "a[1][1].plot(x,np.log10(x))\n",
    "a[1][1].set_title('log')\n",
    "plt.show()"
   ]
  },
  {
   "cell_type": "markdown",
   "id": "e6129bf3-65e7-488b-9cbb-8fdfef8f237b",
   "metadata": {
    "user_expressions": []
   },
   "source": [
    "此外，matplotlib还提供了subplot2grid()函数用于在画布的特定位置创建axes对象（即绘图区域），并使用不同数量的行、列来创建跨度不同的绘图区域，即以非等分的形式对画布进行切分。subplot2grid()函数的参数如下：\n",
    "- shape：整个画布按等分切割的行、列数\n",
    "- location：给定的绘制图形的位置，初始位置(0,0)表示第1行第1列\n",
    "- rowsapan：子图跨越的行数\n",
    "- colspan：子图跨越的列数"
   ]
  },
  {
   "cell_type": "code",
   "execution_count": null,
   "id": "55456ba3-ef05-4faf-b5aa-d51a6b6ebbdb",
   "metadata": {},
   "outputs": [],
   "source": [
    "a1 = plt.subplot2grid((3,3),(0,0),colspan = 2)\n",
    "a2 = plt.subplot2grid((3,3),(0,2), rowspan = 3)\n",
    "a3 = plt.subplot2grid((3,3),(1,0),rowspan = 2, colspan = 2)\n",
    "x = np.arange(1,10)\n",
    "a2.plot(x, x*x)\n",
    "a2.set_title('square')\n",
    "a1.plot(x, np.exp(x))\n",
    "a1.set_title('exp')\n",
    "a3.plot(x, np.log(x))\n",
    "a3.set_title('log')\n",
    "plt.tight_layout()\n",
    "plt.show()"
   ]
  },
  {
   "cell_type": "markdown",
   "id": "615c6a30-2b1b-4988-9ba8-a574d615c444",
   "metadata": {
    "user_expressions": []
   },
   "source": [
    "## 网格格式的设置\n",
    "通过matplotlib axes对象提供的grid()方法可以开启或者关闭画布中的网格（即是否显示网格）以及网格的主/次刻度。除此之外，grid()函数还可以设置网格的颜色、线型以及线宽等属性。"
   ]
  },
  {
   "cell_type": "code",
   "execution_count": null,
   "id": "16b9b28f-083e-4fb6-a87f-ffc77ab67943",
   "metadata": {},
   "outputs": [],
   "source": [
    "fig, axes = plt.subplots(1,3, figsize = (12,4))\n",
    "x = np.arange(1,11)\n",
    "axes[0].plot(x, x**3, 'g',lw=2)\n",
    "#开启网格\n",
    "axes[0].grid(True)\n",
    "axes[0].set_title('default grid')\n",
    "axes[1].plot(x, np.exp(x), 'r')\n",
    "#设置网格的颜色，线型，线宽\n",
    "axes[1].grid(color='b', ls = '-.', lw = 0.25)\n",
    "axes[1].set_title('custom grid')\n",
    "axes[2].plot(x,x)\n",
    "axes[2].set_title('no grid')\n",
    "fig.tight_layout()\n",
    "plt.show()"
   ]
  },
  {
   "cell_type": "markdown",
   "id": "39094eed-a572-461a-b2e0-24670f306930",
   "metadata": {
    "user_expressions": []
   },
   "source": [
    "## 坐标轴设置\n",
    "matplotlib中的`xscale`和`yscale`方法实现了对x轴和y轴的缩放，缩放类型的取值范围为{'linear','log','symlog','logit'}。`spines`属性则控制了坐标轴的颜色、宽度及显示状态。"
   ]
  },
  {
   "cell_type": "code",
   "execution_count": null,
   "id": "07beae18-4627-45ef-bab9-410b310b1e04",
   "metadata": {},
   "outputs": [],
   "source": [
    "x = np.arange(1,5)\n",
    "y = np.exp(x)\n",
    "plt.plot(x, y)\n",
    "plt.yscale('log')\n",
    "plt.title('log scale')\n",
    "plt.xlabel('x axis')\n",
    "plt.ylabel('y axis')\n",
    "plt.grid(True)"
   ]
  },
  {
   "cell_type": "code",
   "execution_count": null,
   "id": "274b1f4c-5d28-4c83-850e-0ece377aac99",
   "metadata": {},
   "outputs": [],
   "source": [
    "fig, axes = plt.subplots(1, 2, figsize=(10,4))\n",
    "x = np.arange(1,5)\n",
    "axes[0].plot( x, np.exp(x))\n",
    "axes[0].plot(x,x**2)\n",
    "axes[0].set_title(\"Normal scale\")\n",
    "axes[1].plot (x, np.exp(x))\n",
    "axes[1].plot(x, x**2)\n",
    "\n",
    "axes[1].set_yscale(\"log\")\n",
    "axes[1].set_title(\"Logarithmic scale (y)\")\n",
    "axes[0].set_xlabel(\"x axis\")\n",
    "axes[0].set_ylabel(\"y axis\")\n",
    "axes[0].xaxis.labelpad = 10\n",
    "\n",
    "axes[1].set_xlabel(\"x axis\")\n",
    "axes[1].set_ylabel(\"y axis\")\n",
    "plt.show()"
   ]
  },
  {
   "cell_type": "code",
   "execution_count": null,
   "id": "63d7e80d-4820-4a48-9e74-fded199237eb",
   "metadata": {},
   "outputs": [],
   "source": [
    "fig = plt.figure()\n",
    "ax = fig.add_axes([0,0,1,1])\n",
    "#为左侧轴，底部轴添加颜色\n",
    "ax.spines['bottom'].set_color('blue')\n",
    "ax.spines['left'].set_color('red')\n",
    "ax.spines['left'].set_linewidth(2)\n",
    "#将侧轴、顶部轴设置为None\n",
    "ax.spines['right'].set_color(None)\n",
    "ax.spines['top'].set_color(None)\n",
    "ax.plot([1,2,3,4,5])\n",
    "plt.show()"
   ]
  },
  {
   "cell_type": "markdown",
   "id": "30aa2627-101e-4b5a-9364-5428b7c447fa",
   "metadata": {
    "user_expressions": []
   },
   "source": [
    "Matplotlib会根据自变量与因变量的取值范围，自动设置x轴与y轴的数值大小，但也提供了xlim()和ylim()对x轴和y轴数值范围进行自定义设置。"
   ]
  },
  {
   "cell_type": "code",
   "execution_count": null,
   "id": "ed5d25fe-b2e5-4a7f-8e87-479051834c94",
   "metadata": {},
   "outputs": [],
   "source": [
    "x = np.arange(1,10)\n",
    "y = np.exp(x)\n",
    "plt.plot(x,y,'r')\n",
    "plt.title('exp')\n",
    "plt.ylim(0,10000)\n",
    "plt.xlim(0,10)\n",
    "plt.show()"
   ]
  },
  {
   "cell_type": "code",
   "execution_count": null,
   "id": "ef0f4ef6-6a6e-4c4e-8494-54172265c043",
   "metadata": {},
   "outputs": [],
   "source": [
    "fig = plt.figure()\n",
    "a1 = fig.add_axes([0,0,1,1])\n",
    "x = np.arange(1,10)\n",
    "a1.plot(x, np.exp(x),'r')\n",
    "a1.set_title('exp')\n",
    "a1.set_ylim(0,10000)\n",
    "a1.set_xlim(0,10)\n",
    "plt.show()"
   ]
  },
  {
   "cell_type": "markdown",
   "id": "5bbc27c1-f2cc-44b8-ac96-270bd7a068ef",
   "metadata": {
    "user_expressions": []
   },
   "source": [
    "xticks()和yticks()是matplotlib中用于设置刻度的函数，它接受一个列表对象作为参数，列表中的元素表示对应数轴上要显示的刻度，另外还可以分别通过set_xticklabels()和set_yticklabels()函数设置与刻度线相对应的刻度标签。"
   ]
  },
  {
   "cell_type": "code",
   "execution_count": null,
   "id": "e3234250-af9e-447c-a3a0-5e95a6199d8f",
   "metadata": {},
   "outputs": [],
   "source": [
    "x = np.linspace(0,10,1000)\n",
    "y = np.sin(x)\n",
    "a = list(range(0,11,1))\n",
    "plt.xticks(a)\n",
    "plt.plot(x,y)\n",
    "plt.show()"
   ]
  },
  {
   "cell_type": "code",
   "execution_count": null,
   "id": "b8301b0e-3de6-4e3e-9d98-89563a14f3f2",
   "metadata": {},
   "outputs": [],
   "source": [
    "x = np.linspace(0,10,1000)\n",
    "y = np.sin(x)\n",
    "fig = plt.figure()\n",
    "ax = fig.add_axes([0, 0, 1, 1])\n",
    "ax.plot(x, y)\n",
    "#设置x轴标签\n",
    "ax.set_xlabel('angle')\n",
    "ax.set_title('sine')\n",
    "ax.set_xticks([0,2,4,6,8,10])\n",
    "#设置x轴刻度标签\n",
    "ax.set_xticklabels(['zero','two','four','six','eight','ten'])\n",
    "ax.set_yticks([-1,0,1])\n",
    "plt.show()"
   ]
  },
  {
   "cell_type": "markdown",
   "id": "952714e2-bc47-49a1-a8aa-4192300c384e",
   "metadata": {
    "user_expressions": []
   },
   "source": [
    "## 文本注释\n",
    "Matplotlib中的text()和annotate()函数分别支持在绘图区域的任意位置绘制文本和添加注释。"
   ]
  },
  {
   "cell_type": "code",
   "execution_count": null,
   "id": "f55c6870-c885-4364-a3ad-4c4788ae5723",
   "metadata": {},
   "outputs": [],
   "source": [
    "plt.rcParams[\"font.sans-serif\"]=[\"SimHei\"] #设置字体\n",
    "plt.rcParams[\"axes.unicode_minus\"]=False #正常显示负号\n",
    "x = np.linspace(0,10,1000)\n",
    "y = np.sin(x)\n",
    "a = list(range(0,11,1))\n",
    "plt.figure(figsize=(8,6))\n",
    "plt.xlabel('angle')\n",
    "plt.ylabel('sin value')\n",
    "plt.text(7,0,r'$\\mu=100,\\ \\sigma=15$',weight=\"bold\", color=\"b\")\n",
    "plt.annotate('sin函数曲线',xy=(3,-0.25),xytext=(4.5,0.25),arrowprops=dict(facecolor='black',shrink=0.1,width=1))\n",
    "plt.xticks(a)\n",
    "plt.plot(x,y)\n",
    "plt.show()"
   ]
  },
  {
   "cell_type": "code",
   "execution_count": null,
   "id": "8dbab35c-b478-48e3-9ad1-1abef2e72b57",
   "metadata": {},
   "outputs": [],
   "source": [
    "fig = plt.figure(figsize=(8,6))\n",
    "ax = fig.add_subplot()\n",
    "fig.subplots_adjust(top=0.85)\n",
    "\n",
    "# Set titles for the figure and the subplot respectively\n",
    "fig.suptitle('bold figure suptitle', fontsize=14, fontweight='bold')\n",
    "ax.set_title('axes title')\n",
    "ax.set_xlabel('xlabel')\n",
    "ax.set_ylabel('ylabel')\n",
    "# Set both x- and y-axis limits to [0, 10] instead of default [0, 1]\n",
    "ax.axis([0, 12, 0, 12])\n",
    "ax.text(3, 8, 'boxed italics text in data coords', style='italic',bbox={'facecolor': 'red', 'alpha': 0.5, 'pad': 10})\n",
    "ax.text(2, 6, r'an equation: $E=mc^2$', fontsize=15)\n",
    "ax.text(3, 2, 'unicode: Institut fur Festk')\n",
    "ax.text(0.95, 0.01, 'colored text in axes coords',verticalalignment='bottom', horizontalalignment='right',transform=ax.transAxes,\n",
    "        color='green', fontsize=15)\n",
    "\n",
    "bbox_props = dict(boxstyle=\"round\", fc=\"w\", ec=\"0.5\", alpha=0.9)\n",
    "ax.text(10, 8, \"Sample A\", ha=\"center\", va=\"center\", size=20, bbox=bbox_props)\n",
    "bbox_props = dict(boxstyle=\"rarrow\", fc=(0.8,0.9,0.9), ec=\"b\", lw=2)\n",
    "t = ax.text(8, 5, \"Direction\", ha=\"center\", va=\"center\", rotation=45,size=15,bbox=bbox_props)\n",
    "bb = t.get_bbox_patch()\n",
    "bb.set_boxstyle(\"rarrow\", pad=0.6)\n",
    "\n",
    "ax.plot([2], [1], 'o')\n",
    "ax.annotate('annotate', xy=(2, 1), xytext=(3, 4),arrowprops=dict(facecolor='black', shrink=0.05))\n",
    "plt.show()"
   ]
  },
  {
   "cell_type": "markdown",
   "id": "a18e82c7-05b3-47e1-be12-5a13102da77e",
   "metadata": {
    "user_expressions": []
   },
   "source": [
    "## pyplot基本图表\n",
    "柱状图"
   ]
  },
  {
   "cell_type": "code",
   "execution_count": null,
   "id": "c932d0f4-d87f-42b2-8c06-679de0d8c5a9",
   "metadata": {},
   "outputs": [],
   "source": [
    "data = [[30, 25, 50, 20],[40, 23, 51, 17],[35, 22, 45, 19]]\n",
    "X = np.arange(4)\n",
    "fig = plt.figure()\n",
    "ax = fig.add_axes([0,0,1,1])\n",
    "#绘制柱状图\n",
    "ax.bar(X + 0.25, data[0], color = 'b', width = 0.25)\n",
    "ax.bar(X + 0.50, data[1], color = 'g', width = 0.25)\n",
    "ax.bar(X + 0.75, data[2], color = 'r', width = 0.25)\n",
    "ax.legend(labels=('CS','IT','TC'))\n",
    "plt.show()"
   ]
  },
  {
   "cell_type": "code",
   "execution_count": null,
   "id": "2faffcd3-d7cf-4bcc-be92-0555ab67399a",
   "metadata": {},
   "outputs": [],
   "source": [
    "fig = plt.figure()\n",
    "ax = fig.add_axes([0,0,1,1])\n",
    "langs = ['C', 'C++', 'Java', 'Python', 'PHP']\n",
    "students = [23,17,35,29,12]\n",
    "ax.barh(langs,students)\n",
    "plt.show()"
   ]
  },
  {
   "cell_type": "code",
   "execution_count": null,
   "id": "4f8289a3-2bcb-427c-81a8-a2f7f9841ddf",
   "metadata": {},
   "outputs": [],
   "source": [
    "N = 5\n",
    "menMeans = (20, 35, 30, 35, 27)\n",
    "womenMeans = (25, 32, 34, 20, 25)\n",
    "menStd = (2, 3, 4, 1, 2)\n",
    "womenStd = (3, 5, 2, 3, 3)\n",
    "ind = np.arange(N)    \n",
    "width = 0.35\n",
    "plt.figure(figsize=(8,6))\n",
    "p1 = plt.bar(ind, menMeans, width, yerr=menStd)\n",
    "p2 = plt.bar(ind, womenMeans, width, bottom=menMeans, yerr=womenStd)\n",
    "plt.ylabel('Scores')\n",
    "plt.title('Scores by group and gender')\n",
    "plt.xticks(ind, ('G1', 'G2', 'G3', 'G4', 'G5'))\n",
    "plt.yticks(np.arange(0, 81, 10))\n",
    "plt.legend((p1[0], p2[0]), ('Men', 'Women'))\n",
    "plt.show()"
   ]
  },
  {
   "cell_type": "markdown",
   "id": "3048f81b-f156-44f6-a734-1e7b2c69bc54",
   "metadata": {
    "user_expressions": []
   },
   "source": [
    "双轴图"
   ]
  },
  {
   "cell_type": "code",
   "execution_count": null,
   "id": "00562d13-cb5d-4060-b8cd-c259ebb627f0",
   "metadata": {},
   "outputs": [],
   "source": [
    "fig = plt.figure()\n",
    "a1 = fig.add_axes([0,0,1,1])\n",
    "x = np.arange(1,11)\n",
    "a1.plot(x,np.exp(x))\n",
    "a1.set_ylabel('exp')\n",
    "# matplotlib提供twinx()和twiny()函数用于绘制双轴图\n",
    "a2 = a1.twinx()\n",
    "a2.plot(x, np.log(x),'ro-')\n",
    "a2.set_ylabel('log')\n",
    "fig.legend(labels = ('exp','log'),loc='upper left')\n",
    "plt.show()"
   ]
  },
  {
   "cell_type": "markdown",
   "id": "b9371e86-69b7-4db3-94c9-e257d3f927d9",
   "metadata": {
    "user_expressions": []
   },
   "source": [
    "直方图"
   ]
  },
  {
   "cell_type": "code",
   "execution_count": null,
   "id": "c304bd24-5ae7-4381-a7bf-189e59920f0e",
   "metadata": {},
   "outputs": [],
   "source": [
    "np.random.seed(0)\n",
    "mu,sigma = 100,20\n",
    "data = np.random.normal(mu,sigma,size=100)\n",
    "\n",
    "plt.hist(data,bins=20,histtype='bar',facecolor='g',edgecolor=\"black\",alpha=0.6)\n",
    "plt.xlabel(\"区间\",fontproperties='SimHei',fontsize=12)\n",
    "plt.ylabel(\"频数/频率\",fontproperties='SimHei',fontsize=12)\n",
    "plt.title('频数/频率分布直方图',fontproperties='SimHei')\n",
    "plt.savefig('直方图')\n",
    "plt.show()"
   ]
  },
  {
   "cell_type": "markdown",
   "id": "61faafb0-7bf5-4a6d-9211-90bcdad2f9d6",
   "metadata": {
    "user_expressions": []
   },
   "source": [
    "饼状图"
   ]
  },
  {
   "cell_type": "code",
   "execution_count": null,
   "id": "61990eb1-3fa0-4f26-893a-14d345bd5091",
   "metadata": {},
   "outputs": [],
   "source": [
    "labels = ['c','python','java','php']\n",
    "sizes = [14.55,30.45,45,10]\n",
    "colors = ['red','yellow','lightskyblue','green']\n",
    "explode = (0,0.1,0,0)\n",
    "plt.figure(figsize=(7,5),dpi=90)\n",
    "plt.pie(sizes,labels=labels,colors=colors,explode=explode,labeldistance = 1.1,pctdistance = 0.6,autopct='%.2f%%',shadow=False,startangle=90)\n",
    "plt.axis('equal') #使饼状图的xy轴长度相等\n",
    "plt.legend(loc='best')\n",
    "plt.show()"
   ]
  },
  {
   "cell_type": "markdown",
   "id": "aa01a65e-0e7a-49ff-b042-0461b4e30caa",
   "metadata": {
    "user_expressions": []
   },
   "source": [
    "散点图"
   ]
  },
  {
   "cell_type": "code",
   "execution_count": null,
   "id": "2308766e-327b-4844-99e9-a361560622c1",
   "metadata": {},
   "outputs": [],
   "source": [
    "plt.figure(figsize=(10,4),dpi=80)\n",
    "np.random.seed(1)\n",
    "a=10*np.random.randn(100)\n",
    "b=10*np.random.randn(100)\n",
    "plt.scatter(a,b,c='red',marker='o',alpha=0.8)\n",
    "plt.scatter(0.8*a,2*b,c='cyan',marker='^')\n",
    "plt.title('scatter plot')\n",
    "plt.show()"
   ]
  },
  {
   "cell_type": "markdown",
   "id": "3eb18df7-c4db-4872-91b3-061bf03e3671",
   "metadata": {
    "user_expressions": []
   },
   "source": [
    "步阶图"
   ]
  },
  {
   "cell_type": "code",
   "execution_count": null,
   "id": "96a872c6-52ae-4724-93df-f90b90c167ce",
   "metadata": {},
   "outputs": [],
   "source": [
    "import matplotlib\n",
    "\n",
    "matplotlib.rcParams['font.family']='YouYuan'\n",
    "matplotlib.rcParams['font.size']=10\n",
    "a=np.arange(1,10,1)\n",
    "plt.step(a,np.sin(a),'r-')\n",
    "plt.yticks(np.arange(-1.0,1.25,0.25))\n",
    "plt.xticks(np.arange(0,10,1))\n",
    "plt.show()"
   ]
  },
  {
   "cell_type": "markdown",
   "id": "0418a5bf-4ce5-4a4a-ba24-72d5fe958376",
   "metadata": {
    "user_expressions": []
   },
   "source": [
    "等高线图"
   ]
  },
  {
   "cell_type": "code",
   "execution_count": null,
   "id": "b6665824-4813-4696-8480-dd6c6f2c5bb9",
   "metadata": {},
   "outputs": [],
   "source": [
    "x_value = np.arange(-3,3,0.025)\n",
    "y_value = np.arange(-3,3,0.025)\n",
    "# 转换成矩阵数据\n",
    "x,y = np.meshgrid(x_value,y_value)\n",
    "z1 = (x**2+y**5)*np.exp(-x**2-y**2)\n",
    "z2 = np.exp(-(x-1)**2-(y-1)**2)\n",
    "Z = (z1-z2)*2\n",
    "\n",
    "plt.figure(figsize=(8,6))\n",
    "cs = plt.contour(x,y,Z,cmap=\"Blues_r\",linewidths=np.arange(0.5,4,0.5))\n",
    "plt.clabel(cs,fontsize=10,inline=True)\n",
    "plt.show()"
   ]
  },
  {
   "cell_type": "code",
   "execution_count": null,
   "id": "da5d3701-5b14-41e8-a9a9-148db770b3e5",
   "metadata": {},
   "outputs": [],
   "source": [
    "plt.figure(figsize=(8,6))\n",
    "cs = plt.contour(x,y,Z,10,colors=\"black\",linewidths=0.5)\n",
    "plt.clabel(cs,fontsize=12,inline=True)\n",
    "plt.contourf(x,y,Z,10,cmap=\"afmhot_r\",alpha=0.5)\n",
    "plt.colorbar(shrink=0.8)\n",
    "plt.show()"
   ]
  },
  {
   "cell_type": "markdown",
   "id": "f0c3b36b-8295-4e6a-8ee6-77e30d9b2f0b",
   "metadata": {
    "user_expressions": []
   },
   "source": [
    "箱型图"
   ]
  },
  {
   "cell_type": "code",
   "execution_count": null,
   "id": "30cab61c-9f60-497f-802f-d78fd805de26",
   "metadata": {},
   "outputs": [],
   "source": [
    "np.random.seed(19680801)\n",
    "all_data = [np.random.normal(0, std, size=100) for std in range(1, 4)]\n",
    "labels = ['x1', 'x2', 'x3']\n",
    "fig, axes = plt.subplots(nrows=1, ncols=2, figsize=(10, 4))\n",
    "\n",
    "# rectangular box plot\n",
    "bplot1 = axes[0].boxplot(all_data,vert=True,patch_artist=True,labels=labels)  \n",
    "axes[0].set_title('Rectangular box plot')\n",
    "\n",
    "# notch shape box plot\n",
    "bplot2 = axes[1].boxplot(all_data,notch=True,vert=True,patch_artist=True,labels=labels) \n",
    "axes[1].set_title('Notched box plot')\n",
    "\n",
    "# fill with colors\n",
    "colors = ['pink', 'lightblue', 'lightgreen']\n",
    "for bplot in (bplot1, bplot2):\n",
    "    for patch, color in zip(bplot['boxes'], colors):\n",
    "        patch.set_facecolor(color)\n",
    "\n",
    "# adding horizontal grid lines\n",
    "for ax in axes:\n",
    "    ax.yaxis.grid(True)\n",
    "    ax.set_xlabel('Three separate samples')\n",
    "    ax.set_ylabel('Observed values')\n",
    "plt.show()"
   ]
  },
  {
   "cell_type": "markdown",
   "id": "d52da944-6127-4782-97c7-5699eadeaa40",
   "metadata": {
    "user_expressions": []
   },
   "source": [
    "提琴图"
   ]
  },
  {
   "cell_type": "code",
   "execution_count": null,
   "id": "21d8bc71-a5a9-4808-86ef-3feab68d64b3",
   "metadata": {},
   "outputs": [],
   "source": [
    "np.random.seed(10)\n",
    "collectn_1 = np.random.normal(100, 10, 200)\n",
    "collectn_2 = np.random.normal(80, 30, 200)\n",
    "collectn_3 = np.random.normal(90, 20, 200)\n",
    "collectn_4 = np.random.normal(70, 25, 200)\n",
    "data_to_plot = [collectn_1, collectn_2, collectn_3, collectn_4]\n",
    "plt.figure()\n",
    "plt.violinplot(data_to_plot)\n",
    "plt.show()"
   ]
  },
  {
   "cell_type": "markdown",
   "id": "99be8aa1-941e-4de1-9069-e7c88d44b8f5",
   "metadata": {
    "user_expressions": []
   },
   "source": [
    "茎状图"
   ]
  },
  {
   "cell_type": "code",
   "execution_count": null,
   "id": "3c16f531-6a31-400e-917e-4b4fac40d1ab",
   "metadata": {},
   "outputs": [],
   "source": [
    "x = np.linspace(0.1, 2 * np.pi, 25)\n",
    "markerline, stemlines, baseline = plt.stem(x, np.cos(x), '-.')\n",
    "plt.setp(baseline, color='r', linewidth=2)\n",
    "plt.show()"
   ]
  },
  {
   "cell_type": "markdown",
   "id": "584cb954-cd7b-4ace-9e4b-fd019672cf1c",
   "metadata": {
    "user_expressions": []
   },
   "source": [
    "极轴图"
   ]
  },
  {
   "cell_type": "code",
   "execution_count": null,
   "id": "320462f3-32f3-4846-8a5a-8fcb8cc43c85",
   "metadata": {},
   "outputs": [],
   "source": [
    "plt.rc('grid', color='#316931', linewidth=1, linestyle='-')\n",
    "plt.rc('xtick', labelsize=15)\n",
    "plt.rc('ytick', labelsize=15)\n",
    "\n",
    "fig = plt.figure(figsize=(8, 8))\n",
    "ax = fig.add_axes([0.1, 0.1, 0.8, 0.8],projection='polar', facecolor='#d5de9c')\n",
    "r = np.arange(0, 3.0, 0.01)\n",
    "theta = 2 * np.pi * r\n",
    "ax.plot(theta, r, color='#ee8d18', lw=3, label='a line')\n",
    "ax.plot(0.5 * theta, r, color='blue', ls='--', lw=3, label='another line')\n",
    "ax.legend(loc='upper right')\n",
    "plt.show()"
   ]
  },
  {
   "cell_type": "markdown",
   "id": "d2517e8a-0e7f-4823-a8a3-8d508da1e8b8",
   "metadata": {
    "user_expressions": []
   },
   "source": [
    "3D图"
   ]
  },
  {
   "cell_type": "code",
   "execution_count": null,
   "id": "98aab588-0f1d-45f8-9853-dbdf764f418c",
   "metadata": {},
   "outputs": [],
   "source": [
    "from mpl_toolkits.mplot3d import Axes3D  \n",
    "\n",
    "plt.rcParams['legend.fontsize'] = 14\n",
    "fig = plt.figure(figsize=(8,6))\n",
    "ax = plt.axes(projection='3d')\n",
    "# Prepare arrays x, y, z\n",
    "theta = np.linspace(-4 * np.pi, 4 * np.pi, 100)\n",
    "z = np.linspace(-2, 2, 100)\n",
    "r = z**2 + 1\n",
    "x = r * np.sin(theta)\n",
    "y = r * np.cos(theta)\n",
    "ax.plot(x, y, z, label='parametric curve')\n",
    "ax.legend(loc='upper right')\n",
    "plt.show()"
   ]
  },
  {
   "cell_type": "code",
   "execution_count": null,
   "id": "f619e9be-0ff4-40d4-a05d-931d67d5663f",
   "metadata": {},
   "outputs": [],
   "source": [
    "np.random.seed(19680801)\n",
    "fig = plt.figure(figsize=(8,6))\n",
    "ax = fig.add_subplot(111, projection='3d')\n",
    "x, y = np.random.rand(2, 100) * 4\n",
    "hist, xedges, yedges = np.histogram2d(x, y, bins=4, range=[[0, 4], [0, 4]])\n",
    "\n",
    "xpos, ypos = np.meshgrid(xedges[:-1] + 0.25, yedges[:-1] + 0.25, indexing=\"ij\")\n",
    "xpos = xpos.ravel()\n",
    "ypos = ypos.ravel()\n",
    "zpos = 0\n",
    "# Construct arrays with the dimensions for the 16 bars.\n",
    "dx = dy = 0.5 * np.ones_like(zpos)\n",
    "dz = hist.ravel()\n",
    "ax.bar3d(xpos, ypos, zpos, dx, dy, dz, color='b', zsort='average')\n",
    "plt.show()"
   ]
  },
  {
   "cell_type": "code",
   "execution_count": null,
   "id": "4ce25700-c30c-4913-bb1e-c504d7d48136",
   "metadata": {},
   "outputs": [],
   "source": [
    "fig = plt.figure(figsize=(8,6))\n",
    "ax = plt.axes(projection='3d')\n",
    "z = np.linspace(0, 1, 100)\n",
    "x = z * np.sin(20 * z)\n",
    "y = z * np.cos(20 * z)\n",
    "c = x + y\n",
    "ax.scatter3D(x, y, z, c=c)\n",
    "ax.set_title('3d Scatter plot')\n",
    "plt.show()"
   ]
  },
  {
   "cell_type": "code",
   "execution_count": null,
   "id": "b9546789-d23a-46d6-bfd3-4bd81c04fae0",
   "metadata": {},
   "outputs": [],
   "source": [
    "def f(x, y):\n",
    "    return np.sin(np.sqrt(x ** 2 + y ** 2))\n",
    "x = np.linspace(-6, 6, 30)\n",
    "y = np.linspace(-6, 6, 30)\n",
    "X, Y = np.meshgrid(x, y)\n",
    "Z = f(X, Y)\n",
    "fig = plt.figure(figsize=(8,6))\n",
    "ax = plt.axes(projection='3d')\n",
    "#50表示在z轴方向等高线的高度层级，binary颜色从白色变成黑色\n",
    "ax.contour3D(X, Y, Z, 50, cmap='binary')\n",
    "ax.set_xlabel('x')\n",
    "ax.set_ylabel('y')\n",
    "ax.set_zlabel('z')\n",
    "ax.set_title('3D contour')\n",
    "plt.show()"
   ]
  },
  {
   "cell_type": "code",
   "execution_count": null,
   "id": "f391d731-d87e-4234-8622-dab32d63a496",
   "metadata": {},
   "outputs": [],
   "source": [
    "x = np.outer(np.linspace(-2, 2, 30), np.ones(30))\n",
    "y = x.copy().T \n",
    "z = np.cos(x ** 2 + y ** 2)\n",
    "fig = plt.figure(figsize=(8,6))\n",
    "ax = plt.axes(projection='3d')\n",
    "ax.plot_surface(x, y, z,cmap='viridis', edgecolor='none')\n",
    "ax.set_title('Surface plot')\n",
    "plt.show()"
   ]
  },
  {
   "cell_type": "code",
   "execution_count": 2,
   "id": "630ec95e-d7a4-4c36-854e-f4a63fd5465f",
   "metadata": {},
   "outputs": [],
   "source": [
    "%load_ext jupyter_ai"
   ]
  },
  {
   "cell_type": "code",
   "execution_count": null,
   "id": "8d8a9e76-6ec4-4c40-bfe7-cf29dce9c296",
   "metadata": {},
   "outputs": [],
   "source": []
  }
 ],
 "metadata": {
  "kernelspec": {
   "display_name": "Python 3 (ipykernel)",
   "language": "python",
   "name": "python3"
  },
  "language_info": {
   "codemirror_mode": {
    "name": "ipython",
    "version": 3
   },
   "file_extension": ".py",
   "mimetype": "text/x-python",
   "name": "python",
   "nbconvert_exporter": "python",
   "pygments_lexer": "ipython3",
   "version": "3.10.11"
  }
 },
 "nbformat": 4,
 "nbformat_minor": 5
}
