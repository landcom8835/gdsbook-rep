{
 "cells": [
  {
   "cell_type": "markdown",
   "id": "415eb7ce",
   "metadata": {
    "slideshow": {
     "slide_type": "slide"
    },
    "tags": [],
    "user_expressions": []
   },
   "source": [
    "# **第二章 几何对象模型**   \n",
    "\n",
    "地理空间的矢量表达中，用点、线、面（多边形）等几何对象来表达地理要素的几何形状。**Shapely**是GEOS(Geometry Engine - Open Source) 的Python接口，提供了矢量空间数据的**几何对象模型及相应的空间操作运算**。GEOS是JTS（Java Topology Suite）的C++实现，也是PostgreSQL的空间扩展PostGIS的几何引擎。**JTS和GEOS遵循OGC简单要素访问规范**。\n",
    "\n",
    "本章主要阐述Shapely中的几何对象模型概述、空间谓词与空间关系、空间操作运算。"
   ]
  },
  {
   "cell_type": "markdown",
   "id": "645a2122",
   "metadata": {
    "slideshow": {
     "slide_type": "slide"
    },
    "tags": [],
    "user_expressions": []
   },
   "source": [
    "## **几何对象模型概述**\n",
    "\n",
    "Shapely实现的基本几何类型有Point、LineString和Polygon。   \n",
    "    \n",
    "   * **Point**：表示空间中的单个点。点可以是二维（x，y）或三维（x，y，z）。    \n",
    "   * **LineString**：表示连接在一起形成一条线的一系列点，至少由两个坐标元组的列表组成。   \n",
    "\n",
    "   * **Polygon**：表示一个填充区域，该区域至少由三个坐标元组的列表和孔多边形（可能）列表组成，坐标元组构成外层环。  \n",
    "\n",
    "```{figure} ./Resources/shapely几何类型示意图.png\n",
    ":name: shapely几何类型示意图\n",
    ":alt: shapely几何类型示意图\n",
    ":width: 50%\n",
    ":align: center\n",
    "```\n",
    "<center> 图2-1 shapely几何类型示意图 </center>\n",
    "Shapely还提供了几何对象的集合类型：MultiPoint、MultiLineString 和MultiPolygon。   \n",
    "    \n",
    "   * **MultiPoint**：表示点的集合，由坐标元组列表组成。\n",
    "\n",
    "   * **MultiLineString**：表示线几何的集合，由一系列类似线的列表组成。   \n",
    "\n",
    "   * **MultiPolygon**：表示多边形的集合，该集合由构成多边形的一系列外环和空洞组成。   \n",
    "    "
   ]
  },
  {
   "cell_type": "markdown",
   "id": "cfae7401",
   "metadata": {
    "tags": [],
    "user_expressions": []
   },
   "source": [
    "### **Point**   \n",
    "\n",
    "创建点仅需将x和y坐标（或可选的z坐标）传递到point()对象."
   ]
  },
  {
   "cell_type": "code",
   "execution_count": 1,
   "id": "add9755f-9ef5-483a-a2e6-9fc750dd8056",
   "metadata": {},
   "outputs": [],
   "source": [
    "# 查看shapely包结构及组成\n",
    "import shapely"
   ]
  },
  {
   "cell_type": "code",
   "execution_count": 2,
   "id": "7ff556b8-e96b-4ef0-9fbf-4c4e02d2815d",
   "metadata": {},
   "outputs": [],
   "source": [
    "# Import necessary geometric objects from shapely module\n",
    "from shapely.geometry import Point, LineString, Polygon\n",
    "\n",
    "# Create Point geometric object(s) with coordinates\n",
    "point1 = Point(111.89, 25.78)\n",
    "point2 = Point(115.69, 23.68)\n",
    "point3 = Point(117.89, 26.78)\n",
    "point3D = Point(111.89,25.78, 888.88) # Shapely是一个平面几何库，在几何分析中忽略z值。"
   ]
  },
  {
   "cell_type": "code",
   "execution_count": 3,
   "id": "2b5eb3e3-8d3c-43e9-a119-53e1ad8f4f37",
   "metadata": {},
   "outputs": [
    {
     "name": "stdout",
     "output_type": "stream",
     "text": [
      "POINT (111.89 25.78)\n",
      "POINT Z (111.89 25.78 888.88)\n",
      "<class 'shapely.geometry.point.Point'>\n"
     ]
    }
   ],
   "source": [
    "# What is the type of the point?\n",
    "print(point1)\n",
    "print(point3D)\n",
    "print(type(point1))"
   ]
  },
  {
   "cell_type": "code",
   "execution_count": 4,
   "id": "e23cb263",
   "metadata": {},
   "outputs": [
    {
     "data": {
      "image/svg+xml": [
       "<svg xmlns=\"http://www.w3.org/2000/svg\" xmlns:xlink=\"http://www.w3.org/1999/xlink\" width=\"100.0\" height=\"100.0\" viewBox=\"110.89 24.78 2.0 2.0\" preserveAspectRatio=\"xMinYMin meet\"><g transform=\"matrix(1,0,0,-1,0,51.56)\"><circle cx=\"111.89\" cy=\"25.78\" r=\"0.06\" stroke=\"#555555\" stroke-width=\"0.02\" fill=\"#66cc99\" opacity=\"0.6\" /></g></svg>"
      ],
      "text/plain": [
       "<POINT (111.89 25.78)>"
      ]
     },
     "execution_count": 4,
     "metadata": {},
     "output_type": "execute_result"
    }
   ],
   "source": [
    "point1"
   ]
  },
  {
   "cell_type": "markdown",
   "id": "551caa7b",
   "metadata": {
    "user_expressions": []
   },
   "source": [
    "#### **Point的属性与方法**   \n",
    "\n",
    "点几何对象提供了内置的属性和方法可供访问，其中最常用的是能够提取点的坐标和计算点之间的欧几里德距离。   \n",
    "\n",
    "提取一个点的坐标，有几种不同的方法："
   ]
  },
  {
   "cell_type": "code",
   "execution_count": 5,
   "id": "b8ccf1cc",
   "metadata": {},
   "outputs": [
    {
     "name": "stdout",
     "output_type": "stream",
     "text": [
      "<class 'shapely.coords.CoordinateSequence'>\n",
      "point_coords.xy type is: <class 'tuple'>\n",
      "point_coords.xy values is: (array('d', [111.89]), array('d', [25.78]))\n",
      "point.x is : 111.89\n",
      "point.y is : 25.78\n"
     ]
    }
   ],
   "source": [
    "# Get the coordinates\n",
    "point_coords = point1.coords\n",
    "\n",
    "# What is the type of this?\n",
    "print(type(point_coords))\n",
    "\n",
    "# Get x and y coordinates\n",
    "xy = point_coords.xy\n",
    "print(\"point_coords.xy type is:\",type(xy))\n",
    "print(\"point_coords.xy values is:\", xy)\n",
    "\n",
    "# Get x, y coordinates of Point1\n",
    "x = point1.x\n",
    "y = point1.y\n",
    "\n",
    "print(\"point.x is :\", x)\n",
    "print(\"point.y is :\", y)"
   ]
  },
  {
   "cell_type": "markdown",
   "id": "fb35d942",
   "metadata": {
    "user_expressions": []
   },
   "source": [
    "**计算两点之间的距离**"
   ]
  },
  {
   "cell_type": "code",
   "execution_count": 6,
   "id": "ac0705ec",
   "metadata": {},
   "outputs": [
    {
     "name": "stdout",
     "output_type": "stream",
     "text": [
      "Distance between the points is 4.34 decimal degrees\n"
     ]
    }
   ],
   "source": [
    "# Calculate the distance between point1 and point2\n",
    "point_dist = point1.distance(point2)\n",
    "\n",
    "print(\"Distance between the points is {0:.2f} decimal degrees\".format(point_dist))\n"
   ]
  },
  {
   "cell_type": "markdown",
   "id": "26a213d5",
   "metadata": {
    "user_expressions": []
   },
   "source": [
    "注：地理信息系统中距离\n",
    "\n",
    "在Shapely中，距离是平面上两点之间的欧氏距离或线性距离。如果我们想计算地球表面的实际距离，则需要计算球体上的距离。通常情况下，地球的赤道半径为6378公里，极地半径为6356公里，即相差22公里。以下使用这两个半径计算两点之间的球面距离、以及两点之间的WGS84椭球面距离。\n",
    "    \n",
    "pyproj.Geod支持大地解算的正算和逆算，Geod类的初始化输入可以是椭球体参数，也可以是椭球体名称，如示例代码中的“WGS84”。\n",
    "\n",
    "   * 正向变换：根据起始点的经度和纬度，加上前向的方位角和距离，确定终点的经度、纬度和后向方位角。   \n",
    "   *lons2, lats2, back_az = geod.fwd(lons1, lats1, forward_az, dist)*    \n",
    "   * 逆向变换：根据两点经纬度，计算前向、后向方位角和距离。   \n",
    "   *forward_az, back_az, dist = geod.inv(lons1, lats1, lons2, lats2)*\n",
    "   * 说明：以上角度单位为度，距离单位为米。"
   ]
  },
  {
   "cell_type": "code",
   "execution_count": 7,
   "id": "61f16a30",
   "metadata": {},
   "outputs": [
    {
     "name": "stdout",
     "output_type": "stream",
     "text": [
      "449.6977 for equatorial radius in km\n",
      "448.1465 for polar radius in km\n",
      "449.3002 for ellipsoid WGS84 in km\n"
     ]
    }
   ],
   "source": [
    "# law of cosines - determines the great-circle distance between two points \n",
    "# on a sphere given their longitudes and latitudes based on \"basic math\"\n",
    "from math import acos,sin,cos,radians\n",
    "\n",
    "p1x=radians(point1.x)\n",
    "p1y=radians(point1.y)\n",
    "p2x=radians(point2.x)\n",
    "p2y=radians(point2.y)            \n",
    "distance = acos(sin(p1y)*sin(p2y)+cos(p1y)*cos(p2y)*cos(p2x-p1x))*6378\n",
    "\n",
    "print( \"{0:8.4f} for equatorial radius in km\".format(distance))\n",
    "distance = acos(sin(p1y)*sin(p2y)+cos(p1y)*cos(p2y)*cos(p2x-p1x))*6356\n",
    "\n",
    "print( \"{0:8.4f} for polar radius in km\".format(distance))\n",
    "\n",
    "# with pyproj\n",
    "import pyproj\n",
    "\n",
    "geod = pyproj.Geod(ellps='WGS84')\n",
    "\n",
    "angle1,angle2,distance = geod.inv(point1.x, point1.y, point2.x, point2.y)\n",
    "\n",
    "print (\"{0:8.4f} for ellipsoid WGS84 in km\".format(distance/1000))"
   ]
  },
  {
   "cell_type": "markdown",
   "id": "1f487fb0",
   "metadata": {
    "tags": [],
    "user_expressions": []
   },
   "source": [
    "### **LineString**   \n",
    "\n",
    "创建LineString对象与创建点的方式非常相似。可以使用Point点对象列表或传递坐标元组来创建线几何对象。"
   ]
  },
  {
   "cell_type": "code",
   "execution_count": 8,
   "id": "9e62fff2",
   "metadata": {},
   "outputs": [
    {
     "name": "stdout",
     "output_type": "stream",
     "text": [
      "LINESTRING (111.89 25.78, 115.69 23.68, 117.89 26.78)\n",
      "LINESTRING (111.89 25.78, 115.69 23.68, 117.89 26.78)\n",
      "<class 'shapely.geometry.linestring.LineString'>\n"
     ]
    }
   ],
   "source": [
    "# Create a LineString from our Point objects\n",
    "line = LineString([point1, point2, point3])\n",
    "\n",
    "# It is also possible to use coordinate tuples having the same outcome\n",
    "line2 = LineString([(111.89, 25.78), (115.69, 23.68), (117.89, 26.78)])\n",
    "# Let’s see how our LineString looks like\n",
    "print(line)\n",
    "print(line2)\n",
    "\n",
    "print(type(line))\n"
   ]
  },
  {
   "cell_type": "code",
   "execution_count": 9,
   "id": "06295f18",
   "metadata": {},
   "outputs": [
    {
     "data": {
      "image/svg+xml": [
       "<svg xmlns=\"http://www.w3.org/2000/svg\" xmlns:xlink=\"http://www.w3.org/1999/xlink\" width=\"100.0\" height=\"100.0\" viewBox=\"111.63227027027014 22.86281081081082 6.9587027027027375 4.174918918918927\" preserveAspectRatio=\"xMinYMin meet\"><g transform=\"matrix(1,0,0,-1,0,49.90054054054057)\"><path fill-rule=\"evenodd\" fill=\"#66cc99\" stroke=\"#555555\" stroke-width=\"0.13917405405405475\" opacity=\"0.6\" d=\"M 111.88999999999987,25.780000000000022 L 112.33324324324312,23.120540540540553 L 118.33324324324315,24.120540540540553 L 117.88999999999987,26.780000000000015 L 111.88999999999987,25.780000000000022 z\" /></g></svg>"
      ],
      "text/plain": [
       "<POLYGON ((111.89 25.78, 112.333 23.121, 118.333 24.121, 117.89 26.78, 111.8...>"
      ]
     },
     "execution_count": 9,
     "metadata": {},
     "output_type": "execute_result"
    }
   ],
   "source": [
    "line.minimum_rotated_rectangle"
   ]
  },
  {
   "cell_type": "markdown",
   "id": "ba434f0c",
   "metadata": {
    "user_expressions": []
   },
   "source": [
    "#### **LineString的属性与方法**   \n",
    "\n",
    "LineString对象有许多有用的内置属性和功能。例如，可以提取线串的坐标或长度，计算线的质心，沿线以特定距离创建点，计算线到指定点的最近距离，并简化几何图形。\n",
    "\n",
    "以下代码提取线串的相关信息："
   ]
  },
  {
   "cell_type": "code",
   "execution_count": 10,
   "id": "3221fb10",
   "metadata": {},
   "outputs": [
    {
     "name": "stdout",
     "output_type": "stream",
     "text": [
      "line的xy坐标： (array('d', [111.89, 115.69, 117.89]), array('d', [25.78, 23.68, 26.78]))\n",
      "line的x坐标： array('d', [111.89, 115.69, 117.89])\n",
      "line的y坐标： array('d', [25.78, 23.68, 26.78])\n"
     ]
    }
   ],
   "source": [
    "# Get x and y coordinates of the line\n",
    "lxy = line.xy\n",
    "print(\"line的xy坐标：\", lxy)\n",
    "\n",
    "# Extract x coordinates\n",
    "line_x = lxy[0]\n",
    "# Extract y coordinates \n",
    "line_y = line.xy[1]\n",
    "\n",
    "print(\"line的x坐标：\", line_x)\n",
    "print(\"line的y坐标：\", line_y)"
   ]
  },
  {
   "cell_type": "code",
   "execution_count": 11,
   "id": "d46d1ff5",
   "metadata": {},
   "outputs": [
    {
     "name": "stdout",
     "output_type": "stream",
     "text": [
      "Length of our line: 8.14\n",
      "Centroid of our line:  POINT (115.19046454302645 24.96341075717108)\n",
      "Type of the centroid: <class 'shapely.geometry.point.Point'>\n"
     ]
    }
   ],
   "source": [
    "# Get the lenght of the line\n",
    "l_length = line.length\n",
    "\n",
    "# Get the centroid of the line\n",
    "l_centroid = line.centroid\n",
    "\n",
    "# What type is the centroid?\n",
    "centroid_type = type(l_centroid)\n",
    "\n",
    "# Print the outputs\n",
    "print(\"Length of our line: {0:.2f}\".format(l_length))\n",
    "print(\"Centroid of our line: \", l_centroid)\n",
    "print(\"Type of the centroid:\", centroid_type)"
   ]
  },
  {
   "cell_type": "markdown",
   "id": "4d5910a9",
   "metadata": {
    "user_expressions": []
   },
   "source": [
    "#### **线性参考（Linear Referencing）**   \n",
    "\n",
    "使用一维参照系统沿线性要素（如LineStrings、MultiLineStrings）指定位置非常有用。Shapely支持基于长度或距离的线性参考，计算沿几何对象到给定点投影的距离，或计算沿几何对象在给定距离上的点。   \n",
    "\n",
    "   * **object.interpolate**(distance\\[, normalized=False\\])：返回沿线性几何对象指定距离处的**点**。如果normalized参数为真，则距离将被解释为占几何对象整个长度的多少，如0.5为整个长度的一半。\n",
    "   * **object.project**(other\\[, normalized=False\\])：返回沿此几何对象到距离另一个对象最近的点的**距离**。如果normalized参数为真，则距离将被解释为占几何对象整个长度的多少，如0.5为整个长度的一半。project()方法是interpolate()的逆方法。"
   ]
  },
  {
   "cell_type": "code",
   "execution_count": 12,
   "id": "086c8048-308c-4a35-aa3f-a12c32017b48",
   "metadata": {},
   "outputs": [
    {
     "data": {
      "image/svg+xml": [
       "<svg xmlns=\"http://www.w3.org/2000/svg\" xmlns:xlink=\"http://www.w3.org/1999/xlink\" width=\"100.0\" height=\"100.0\" viewBox=\"-0.04 -0.04 1.08 1.08\" preserveAspectRatio=\"xMinYMin meet\"><g transform=\"matrix(1,0,0,-1,0,1.0)\"><polyline fill=\"none\" stroke=\"#66cc99\" stroke-width=\"0.0216\" points=\"0.0,0.0 0.0,1.0 1.0,1.0\" opacity=\"0.8\" /></g></svg>"
      ],
      "text/plain": [
       "<LINESTRING (0 0, 0 1, 1 1)>"
      ]
     },
     "execution_count": 12,
     "metadata": {},
     "output_type": "execute_result"
    }
   ],
   "source": [
    "line = LineString([(0, 0), (0, 1), (1, 1)])\n",
    "line"
   ]
  },
  {
   "cell_type": "code",
   "execution_count": 13,
   "id": "551a8884-a45b-44d9-aa28-42ab4e1c18b6",
   "metadata": {},
   "outputs": [
    {
     "data": {
      "image/svg+xml": [
       "<svg xmlns=\"http://www.w3.org/2000/svg\" xmlns:xlink=\"http://www.w3.org/1999/xlink\" width=\"100.0\" height=\"100.0\" viewBox=\"-0.5 0.0 2.0 2.0\" preserveAspectRatio=\"xMinYMin meet\"><g transform=\"matrix(1,0,0,-1,0,2.0)\"><circle cx=\"0.5\" cy=\"1.0\" r=\"0.06\" stroke=\"#555555\" stroke-width=\"0.02\" fill=\"#66cc99\" opacity=\"0.6\" /></g></svg>"
      ],
      "text/plain": [
       "<POINT (0.5 1)>"
      ]
     },
     "execution_count": 13,
     "metadata": {},
     "output_type": "execute_result"
    }
   ],
   "source": [
    "ip = line.interpolate(1.5)\n",
    "ip"
   ]
  },
  {
   "cell_type": "code",
   "execution_count": 14,
   "id": "be7bb4d3",
   "metadata": {},
   "outputs": [
    {
     "data": {
      "text/plain": [
       "'POINT (0.5 1)'"
      ]
     },
     "execution_count": 14,
     "metadata": {},
     "output_type": "execute_result"
    }
   ],
   "source": [
    "ip.wkt"
   ]
  },
  {
   "cell_type": "code",
   "execution_count": 15,
   "id": "3051bc07",
   "metadata": {},
   "outputs": [
    {
     "data": {
      "text/plain": [
       "'POINT (0.5 1)'"
      ]
     },
     "execution_count": 15,
     "metadata": {},
     "output_type": "execute_result"
    }
   ],
   "source": [
    "line.interpolate(0.75, normalized=True).wkt"
   ]
  },
  {
   "cell_type": "code",
   "execution_count": 16,
   "id": "b1633a0e",
   "metadata": {},
   "outputs": [
    {
     "data": {
      "text/plain": [
       "1.5"
      ]
     },
     "execution_count": 16,
     "metadata": {},
     "output_type": "execute_result"
    }
   ],
   "source": [
    "line.project(ip)"
   ]
  },
  {
   "cell_type": "code",
   "execution_count": 17,
   "id": "bcc04b16",
   "metadata": {},
   "outputs": [
    {
     "data": {
      "text/plain": [
       "0.75"
      ]
     },
     "execution_count": 17,
     "metadata": {},
     "output_type": "execute_result"
    }
   ],
   "source": [
    "line.project(ip, normalized=True)"
   ]
  },
  {
   "cell_type": "code",
   "execution_count": 18,
   "id": "afdb8e59-a4cb-4246-9f97-6ce1821b9145",
   "metadata": {},
   "outputs": [
    {
     "data": {
      "text/plain": [
       "[(0.0, 0.0), (0.0, 1.0), (1.0, 1.0)]"
      ]
     },
     "execution_count": 18,
     "metadata": {},
     "output_type": "execute_result"
    }
   ],
   "source": [
    "list(line.coords)"
   ]
  },
  {
   "cell_type": "code",
   "execution_count": 19,
   "id": "c75100de",
   "metadata": {},
   "outputs": [
    {
     "name": "stdout",
     "output_type": "stream",
     "text": [
      "[[(0.0, 0.0), (1.0, 0.0)], [(1.0, 0.0), (2.0, 0.0), (3.0, 0.0), (4.0, 0.0), (5.0, 0.0)]]\n"
     ]
    }
   ],
   "source": [
    "# 可以使用线性参照方法以指定的距离切割线几何对象。\n",
    "\n",
    "def cut(line, distance):\n",
    "    # Cuts a line in two at a distance from its starting point\n",
    "    if distance <= 0.0 or distance >= line.length:\n",
    "        return [LineString(line)]\n",
    "    coords = list(line.coords)\n",
    "    for i, p in enumerate(coords):\n",
    "        pd = line.project(Point(p))\n",
    "        if pd == distance:\n",
    "            return [\n",
    "                LineString(coords[:i+1]),\n",
    "                LineString(coords[i:])]\n",
    "        if pd > distance:\n",
    "            cp = line.interpolate(distance)\n",
    "            return [\n",
    "                LineString(coords[:i] + [(cp.x, cp.y)]),\n",
    "                LineString([(cp.x, cp.y)] + coords[i:])]\n",
    "line = LineString([(0, 0), (1, 0), (2, 0), (3, 0), (4, 0), (5, 0)])\n",
    "print([list(x.coords) for x in cut(line, 1.0)])"
   ]
  },
  {
   "cell_type": "code",
   "execution_count": 20,
   "id": "bc0c946d",
   "metadata": {},
   "outputs": [
    {
     "name": "stdout",
     "output_type": "stream",
     "text": [
      "[[(0.0, 0.0), (1.0, 0.0), (2.0, 0.0), (2.5, 0.0)], [(2.5, 0.0), (3.0, 0.0), (4.0, 0.0), (5.0, 0.0)]]\n"
     ]
    }
   ],
   "source": [
    "print([list(x.coords) for x in cut(line, 2.5)])"
   ]
  },
  {
   "cell_type": "markdown",
   "id": "e4385e2c",
   "metadata": {
    "tags": [],
    "toc-hr-collapsed": true,
    "user_expressions": []
   },
   "source": [
    "### **Polygon**   \n",
    "\n",
    "创建多边形对象与创建Point和LineString的逻辑相同，但多边形对象**只接受坐标元组作为输入**。多边形至少需要三个坐标元组。"
   ]
  },
  {
   "cell_type": "code",
   "execution_count": 21,
   "id": "12f654be",
   "metadata": {},
   "outputs": [
    {
     "name": "stdout",
     "output_type": "stream",
     "text": [
      "POLYGON ((111.89 25.78, 115.69 23.68, 117.89 26.78, 111.89 25.78))\n",
      "POLYGON ((111.89 25.78, 115.69 23.68, 117.89 26.78, 111.89 25.78))\n",
      "多边形的几何类型: Polygon\n",
      "多边形的对象类型: <class 'shapely.geometry.polygon.Polygon'>\n"
     ]
    }
   ],
   "source": [
    "# Create a Polygon from the coordinates\n",
    "poly = Polygon([(111.89, 25.78), (115.69, 23.68), (117.89, 26.78)])\n",
    "\n",
    "# 也可以使用已有的点对象，但多边形对象需要x，y坐标作为输入\n",
    "poly2 = Polygon([[p.x, p.y] for p in [point1, point2, point3]])\n",
    "\n",
    "# Geometry type can be accessed as a String\n",
    "poly_type = poly.geom_type\n",
    "\n",
    "# Using the Python's type function gives the type in a different format\n",
    "poly_type2 = type(poly)\n",
    "\n",
    "# Let's see how our Polygon looks like\n",
    "print(poly)\n",
    "print(poly2)\n",
    "print(\"多边形的几何类型:\", poly_type)\n",
    "print(\"多边形的对象类型:\", poly_type2)"
   ]
  },
  {
   "cell_type": "code",
   "execution_count": 22,
   "id": "2390c5e6",
   "metadata": {},
   "outputs": [
    {
     "data": {
      "image/svg+xml": [
       "<svg xmlns=\"http://www.w3.org/2000/svg\" xmlns:xlink=\"http://www.w3.org/1999/xlink\" width=\"100.0\" height=\"100.0\" viewBox=\"111.65 23.44 6.47999999999999 3.5799999999999983\" preserveAspectRatio=\"xMinYMin meet\"><g transform=\"matrix(1,0,0,-1,0,50.46)\"><path fill-rule=\"evenodd\" fill=\"#66cc99\" stroke=\"#555555\" stroke-width=\"0.1295999999999998\" opacity=\"0.6\" d=\"M 111.89,25.78 L 115.69,23.68 L 117.89,26.78 L 111.89,25.78 z\" /></g></svg>"
      ],
      "text/plain": [
       "<POLYGON ((111.89 25.78, 115.69 23.68, 117.89 26.78, 111.89 25.78))>"
      ]
     },
     "execution_count": 22,
     "metadata": {},
     "output_type": "execute_result"
    }
   ],
   "source": [
    "poly"
   ]
  },
  {
   "cell_type": "markdown",
   "id": "c94aa2a3",
   "metadata": {
    "user_expressions": []
   },
   "source": [
    "请注意：多边形的坐标由双圆括号包围。这是因为多边形内部可能有孔。可以使用外部坐标和内部坐标（可选）构建多边形，其中内部坐标在多边形内创建孔。\n",
    "\n",
    "创建带空洞的多边形："
   ]
  },
  {
   "cell_type": "code",
   "execution_count": 23,
   "id": "f6e09697",
   "metadata": {},
   "outputs": [
    {
     "name": "stdout",
     "output_type": "stream",
     "text": [
      "POLYGON ((-180 90, -180 -90, 180 -90, 180 90, -180 90))\n",
      "POLYGON ((-180 90, -180 -90, 180 -90, 180 90, -180 90), (-170 80, -170 -80, 170 -80, 170 80, -170 80))\n"
     ]
    },
    {
     "data": {
      "text/plain": [
       "shapely.geometry.polygon.Polygon"
      ]
     },
     "execution_count": 23,
     "metadata": {},
     "output_type": "execute_result"
    }
   ],
   "source": [
    "# 外环坐标元组列表\n",
    "world_exterior = [(-180, 90), (-180, -90), (180, -90), (180, 90)]\n",
    "\n",
    "# 内部空洞坐标元组列表，注意：可能有多个孔，需要提供一个孔列表[[......],...[......]]\n",
    "hole = [[(-170, 80), (-170, -80), (170, -80), (170, 80)]]\n",
    "\n",
    "# World without a hole\n",
    "world = Polygon(shell=world_exterior)\n",
    "\n",
    "# Now we can construct our Polygon with the hole inside\n",
    "world_has_a_hole = Polygon(shell=world_exterior, holes=hole)\n",
    "\n",
    "print(world)\n",
    "\n",
    "print(world_has_a_hole)\n",
    "\n",
    "type(world_has_a_hole)"
   ]
  },
  {
   "cell_type": "code",
   "execution_count": 24,
   "id": "2ebbe580",
   "metadata": {},
   "outputs": [
    {
     "data": {
      "image/svg+xml": [
       "<svg xmlns=\"http://www.w3.org/2000/svg\" xmlns:xlink=\"http://www.w3.org/1999/xlink\" width=\"300\" height=\"208.8\" viewBox=\"-194.4 -104.4 388.8 208.8\" preserveAspectRatio=\"xMinYMin meet\"><g transform=\"matrix(1,0,0,-1,0,0.0)\"><path fill-rule=\"evenodd\" fill=\"#66cc99\" stroke=\"#555555\" stroke-width=\"2.592\" opacity=\"0.6\" d=\"M -180.0,90.0 L -180.0,-90.0 L 180.0,-90.0 L 180.0,90.0 L -180.0,90.0 z\" /></g></svg>"
      ],
      "text/plain": [
       "<POLYGON ((-180 90, -180 -90, 180 -90, 180 90, -180 90))>"
      ]
     },
     "execution_count": 24,
     "metadata": {},
     "output_type": "execute_result"
    }
   ],
   "source": [
    "world"
   ]
  },
  {
   "cell_type": "code",
   "execution_count": 25,
   "id": "6c3f24b0",
   "metadata": {},
   "outputs": [
    {
     "data": {
      "image/svg+xml": [
       "<svg xmlns=\"http://www.w3.org/2000/svg\" xmlns:xlink=\"http://www.w3.org/1999/xlink\" width=\"300\" height=\"208.8\" viewBox=\"-194.4 -104.4 388.8 208.8\" preserveAspectRatio=\"xMinYMin meet\"><g transform=\"matrix(1,0,0,-1,0,0.0)\"><path fill-rule=\"evenodd\" fill=\"#66cc99\" stroke=\"#555555\" stroke-width=\"2.592\" opacity=\"0.6\" d=\"M -180.0,90.0 L -180.0,-90.0 L 180.0,-90.0 L 180.0,90.0 L -180.0,90.0 z M -170.0,80.0 L -170.0,-80.0 L 170.0,-80.0 L 170.0,80.0 L -170.0,80.0 z\" /></g></svg>"
      ],
      "text/plain": [
       "<POLYGON ((-180 90, -180 -90, 180 -90, 180 90, -180 90), (-170 80, -170 -80,...>"
      ]
     },
     "execution_count": 25,
     "metadata": {},
     "output_type": "execute_result"
    }
   ],
   "source": [
    "world_has_a_hole"
   ]
  },
  {
   "cell_type": "markdown",
   "id": "9f720e98",
   "metadata": {
    "user_expressions": []
   },
   "source": [
    "#### **Polygon的属性与方法**   \n",
    "\n",
    "多边形的主要属性有：面积、质心、MBR、外部和外部长度等。   "
   ]
  },
  {
   "cell_type": "code",
   "execution_count": 26,
   "id": "36951838",
   "metadata": {},
   "outputs": [
    {
     "name": "stdout",
     "output_type": "stream",
     "text": [
      "Poly centroid:  POINT (0 0)\n",
      "Poly Area:  64800.0\n",
      "Poly Bounding Box:  (-180.0, -90.0, 180.0, 90.0)\n",
      "Poly Exterior:  LINEARRING (-180 90, -180 -90, 180 -90, 180 90, -180 90)\n",
      "Poly Exterior Length:  1080.0\n"
     ]
    }
   ],
   "source": [
    "# Get the centroid of the Polygon\n",
    "world_centroid = world.centroid\n",
    "\n",
    "# Get the area of the Polygon\n",
    "world_area = world.area\n",
    "\n",
    "# Get the bounds of the Polygon (i.e. bounding box)\n",
    "world_bbox = world.bounds\n",
    "\n",
    "# Get the exterior of the Polygon\n",
    "world_ext = world.exterior\n",
    "\n",
    "# Get the length of the exterior\n",
    "world_ext_length = world_ext.length\n",
    "print(\"Poly centroid: \", world_centroid)\n",
    "print(\"Poly Area: \", world_area)\n",
    "print(\"Poly Bounding Box: \", world_bbox)\n",
    "print(\"Poly Exterior: \", world_ext)\n",
    "print(\"Poly Exterior Length: \", world_ext_length)"
   ]
  },
  {
   "cell_type": "markdown",
   "id": "8213b7fa",
   "metadata": {
    "user_expressions": []
   },
   "source": [
    "### **从文本文件中读取XY坐标**   \n",
    "\n",
    "我们可以使用Python中常用的pandas包读取文本文件中的坐标数据，并转换为DataFrame类型，然后根据DataFrame中的坐标数据创建点几何对象。"
   ]
  },
  {
   "cell_type": "code",
   "execution_count": 27,
   "id": "8e6d119f",
   "metadata": {},
   "outputs": [
    {
     "name": "stdout",
     "output_type": "stream",
     "text": [
      "<class 'pandas.core.frame.DataFrame'>\n"
     ]
    },
    {
     "data": {
      "text/html": [
       "<div>\n",
       "<style scoped>\n",
       "    .dataframe tbody tr th:only-of-type {\n",
       "        vertical-align: middle;\n",
       "    }\n",
       "\n",
       "    .dataframe tbody tr th {\n",
       "        vertical-align: top;\n",
       "    }\n",
       "\n",
       "    .dataframe thead th {\n",
       "        text-align: right;\n",
       "    }\n",
       "</style>\n",
       "<table border=\"1\" class=\"dataframe\">\n",
       "  <thead>\n",
       "    <tr style=\"text-align: right;\">\n",
       "      <th></th>\n",
       "      <th>Country or area</th>\n",
       "      <th>Urban Agglomeration</th>\n",
       "      <th>Latitude</th>\n",
       "      <th>Longitude</th>\n",
       "      <th>Population_2015</th>\n",
       "      <th>Unnamed: 5</th>\n",
       "    </tr>\n",
       "  </thead>\n",
       "  <tbody>\n",
       "    <tr>\n",
       "      <th>0</th>\n",
       "      <td>Japan</td>\n",
       "      <td>Tokyo</td>\n",
       "      <td>35.689500</td>\n",
       "      <td>139.691710</td>\n",
       "      <td>38001018</td>\n",
       "      <td>NaN</td>\n",
       "    </tr>\n",
       "    <tr>\n",
       "      <th>1</th>\n",
       "      <td>India</td>\n",
       "      <td>Delhi</td>\n",
       "      <td>28.666670</td>\n",
       "      <td>77.216670</td>\n",
       "      <td>25703168</td>\n",
       "      <td>NaN</td>\n",
       "    </tr>\n",
       "    <tr>\n",
       "      <th>2</th>\n",
       "      <td>China</td>\n",
       "      <td>Shanghai</td>\n",
       "      <td>31.220000</td>\n",
       "      <td>121.460000</td>\n",
       "      <td>23740778</td>\n",
       "      <td>NaN</td>\n",
       "    </tr>\n",
       "    <tr>\n",
       "      <th>3</th>\n",
       "      <td>Brazil</td>\n",
       "      <td>S?o Paulo</td>\n",
       "      <td>-23.550000</td>\n",
       "      <td>-46.640000</td>\n",
       "      <td>21066245</td>\n",
       "      <td>NaN</td>\n",
       "    </tr>\n",
       "    <tr>\n",
       "      <th>4</th>\n",
       "      <td>India</td>\n",
       "      <td>Mumbai (Bombay)</td>\n",
       "      <td>19.073975</td>\n",
       "      <td>72.880838</td>\n",
       "      <td>21042538</td>\n",
       "      <td>NaN</td>\n",
       "    </tr>\n",
       "  </tbody>\n",
       "</table>\n",
       "</div>"
      ],
      "text/plain": [
       "  Country or area Urban Agglomeration   Latitude   Longitude  Population_2015  \\\n",
       "0           Japan               Tokyo  35.689500  139.691710         38001018   \n",
       "1           India               Delhi  28.666670   77.216670         25703168   \n",
       "2           China            Shanghai  31.220000  121.460000         23740778   \n",
       "3          Brazil           S?o Paulo -23.550000  -46.640000         21066245   \n",
       "4           India     Mumbai (Bombay)  19.073975   72.880838         21042538   \n",
       "\n",
       "   Unnamed: 5  \n",
       "0         NaN  \n",
       "1         NaN  \n",
       "2         NaN  \n",
       "3         NaN  \n",
       "4         NaN  "
      ]
     },
     "execution_count": 27,
     "metadata": {},
     "output_type": "execute_result"
    }
   ],
   "source": [
    "import pandas as pd\n",
    "\n",
    "df = pd.read_csv('../data/globalcities.csv', sep=';', encoding='latin1')\n",
    "print(type(df))\n",
    "df.head(5)\n",
    " "
   ]
  },
  {
   "cell_type": "code",
   "execution_count": 28,
   "id": "fe912af9",
   "metadata": {},
   "outputs": [
    {
     "name": "stdout",
     "output_type": "stream",
     "text": [
      "  Country or area Urban Agglomeration   Latitude   Longitude  Population_2015  \\\n",
      "0           Japan               Tokyo  35.689500  139.691710         38001018   \n",
      "1           India               Delhi  28.666670   77.216670         25703168   \n",
      "2           China            Shanghai  31.220000  121.460000         23740778   \n",
      "3          Brazil           S?o Paulo -23.550000  -46.640000         21066245   \n",
      "4           India     Mumbai (Bombay)  19.073975   72.880838         21042538   \n",
      "\n",
      "   Unnamed: 5                       points  \n",
      "0         NaN    POINT (139.69171 35.6895)  \n",
      "1         NaN    POINT (77.21667 28.66667)  \n",
      "2         NaN         POINT (121.46 31.22)  \n",
      "3         NaN        POINT (-46.64 -23.55)  \n",
      "4         NaN  POINT (72.880838 19.073975)  \n"
     ]
    }
   ],
   "source": [
    "# 根据df(DataFrame)中的Longitude、Latitude数据创建点几何对象。\n",
    "\n",
    "def make_point(row): \n",
    "    return Point(row['Longitude'], row['Latitude'])\n",
    "\n",
    "# apply()方法中的参数axis=1，表示逐行向下处理\n",
    "df['points'] = df.apply(make_point, axis=1)\n",
    "\n",
    "print(df.head(5))"
   ]
  },
  {
   "cell_type": "markdown",
   "id": "899e95f0",
   "metadata": {
    "tags": [],
    "user_expressions": []
   },
   "source": [
    "### **几何集合对象**   \n",
    "\n",
    "在某些情况下，单个地理要素的几何形状由多部分(Multi Part)组成，如MultiPoint、MultiLineString、MultiPolygon，这些集合类型对于建模某些类型的要素非常有用。Y形线要素（如道路）或多个多边形（如岛等）可以通过相应地使用MultiLineString或MultiPolygon很好地作为一个整体表达。   \n",
    "\n",
    "可以通过以下方式来构建几何集合对象："
   ]
  },
  {
   "cell_type": "code",
   "execution_count": 29,
   "id": "e389496d",
   "metadata": {},
   "outputs": [
    {
     "name": "stdout",
     "output_type": "stream",
     "text": [
      "MultiPoint: MULTIPOINT (111.89 25.78, 115.69 23.68, 117.89 26.78)\n",
      "MultiLine:  MULTILINESTRING ((111.89 25.78, 115.69 23.68), (115.69 23.68, 117.89 26.78))\n",
      "Bounding box:  POLYGON ((180 -90, 180 90, 0 90, 0 -90, 180 -90))\n",
      "MultiPoly:  MULTIPOLYGON (((-180 90, -180 -90, 0 -90, 0 90, -180 90), (-170 80, -170 -80, -10 -80, -10 80, -170 80)), ((180 -90, 180 90, 0 90, 0 -90, 180 -90)))\n"
     ]
    }
   ],
   "source": [
    "# Import collections of geometric objects + bounding box\n",
    "from shapely.geometry import MultiPoint, MultiLineString, MultiPolygon, box\n",
    "\n",
    "# Create a MultiPoint object of our points 1,2 and 3\n",
    "multi_point = MultiPoint([point1, point2, point3])\n",
    "\n",
    "# It is also possible to pass coordinate tuples inside\n",
    "multi_point2 = MultiPoint([(111.89, 25.78), (115.69, 23.68), (117.89, 26.78)])\n",
    "\n",
    "# We can also create a MultiLineString with two lines\n",
    "line1 = LineString([point1, point2])\n",
    "\n",
    "line2 = LineString([point2, point3])\n",
    "\n",
    "multi_line = MultiLineString([line1, line2])\n",
    "\n",
    "west_exterior = [(-180, 90), (-180, -90), (0, -90), (0, 90)]\n",
    "\n",
    "west_hole = [[(-170, 80), (-170, -80), (-10, -80), (-10, 80)]]\n",
    "\n",
    "# Create the Polygon\n",
    "west_poly = Polygon(shell=west_exterior, holes=west_hole)\n",
    "\n",
    "min_x, min_y = 0, -90\n",
    "max_x, max_y = 180, 90\n",
    "\n",
    "# Create the polygon using box() function\n",
    "east_poly_box = box(minx=min_x, miny=min_y, maxx=max_x, maxy=max_y)\n",
    "\n",
    "# Let's create our MultiPolygon. We can pass multiple Polygon -objects into our MultiPolygon as a list\n",
    "multi_poly = MultiPolygon([west_poly, east_poly_box])\n",
    "\n",
    "print(\"MultiPoint:\", multi_point)\n",
    "\n",
    "print(\"MultiLine: \", multi_line)\n",
    "\n",
    "print(\"Bounding box: \", east_poly_box)\n",
    "\n",
    "print(\"MultiPoly: \", multi_poly)"
   ]
  },
  {
   "cell_type": "code",
   "execution_count": 30,
   "id": "2ed5c71f",
   "metadata": {},
   "outputs": [
    {
     "data": {
      "image/svg+xml": [
       "<svg xmlns=\"http://www.w3.org/2000/svg\" xmlns:xlink=\"http://www.w3.org/1999/xlink\" width=\"100.0\" height=\"100.0\" viewBox=\"111.65 23.44 6.47999999999999 3.5799999999999983\" preserveAspectRatio=\"xMinYMin meet\"><g transform=\"matrix(1,0,0,-1,0,50.46)\"><g><polyline fill=\"none\" stroke=\"#66cc99\" stroke-width=\"0.1295999999999998\" points=\"111.89,25.78 115.69,23.68\" opacity=\"0.8\" /><polyline fill=\"none\" stroke=\"#66cc99\" stroke-width=\"0.1295999999999998\" points=\"115.69,23.68 117.89,26.78\" opacity=\"0.8\" /></g></g></svg>"
      ],
      "text/plain": [
       "<MULTILINESTRING ((111.89 25.78, 115.69 23.68), (115.69 23.68, 117.89 26.78))>"
      ]
     },
     "execution_count": 30,
     "metadata": {},
     "output_type": "execute_result"
    }
   ],
   "source": [
    "multi_line"
   ]
  },
  {
   "cell_type": "code",
   "execution_count": 31,
   "id": "cda606f4",
   "metadata": {},
   "outputs": [
    {
     "data": {
      "image/svg+xml": [
       "<svg xmlns=\"http://www.w3.org/2000/svg\" xmlns:xlink=\"http://www.w3.org/1999/xlink\" width=\"300\" height=\"208.8\" viewBox=\"-194.4 -104.4 388.8 208.8\" preserveAspectRatio=\"xMinYMin meet\"><g transform=\"matrix(1,0,0,-1,0,0.0)\"><g><path fill-rule=\"evenodd\" fill=\"#ff3333\" stroke=\"#555555\" stroke-width=\"2.592\" opacity=\"0.6\" d=\"M -180.0,90.0 L -180.0,-90.0 L 0.0,-90.0 L 0.0,90.0 L -180.0,90.0 z M -170.0,80.0 L -170.0,-80.0 L -10.0,-80.0 L -10.0,80.0 L -170.0,80.0 z\" /><path fill-rule=\"evenodd\" fill=\"#ff3333\" stroke=\"#555555\" stroke-width=\"2.592\" opacity=\"0.6\" d=\"M 180.0,-90.0 L 180.0,90.0 L 0.0,90.0 L 0.0,-90.0 L 180.0,-90.0 z\" /></g></g></svg>"
      ],
      "text/plain": [
       "<MULTIPOLYGON (((-180 90, -180 -90, 0 -90, 0 90, -180 90), (-170 80, -170 -8...>"
      ]
     },
     "execution_count": 31,
     "metadata": {},
     "output_type": "execute_result"
    }
   ],
   "source": [
    "multi_poly"
   ]
  },
  {
   "cell_type": "markdown",
   "id": "6e2d7816",
   "metadata": {
    "user_expressions": []
   },
   "source": [
    "**几何集合对象的属性与方法**   "
   ]
  },
  {
   "cell_type": "code",
   "execution_count": 32,
   "id": "046fc8ce",
   "metadata": {},
   "outputs": [
    {
     "ename": "TypeError",
     "evalue": "object of type 'MultiLineString' has no len()",
     "output_type": "error",
     "traceback": [
      "\u001b[1;31m---------------------------------------------------------------------------\u001b[0m",
      "\u001b[1;31mTypeError\u001b[0m                                 Traceback (most recent call last)",
      "Cell \u001b[1;32mIn[32], line 5\u001b[0m\n\u001b[0;32m      2\u001b[0m convex \u001b[38;5;241m=\u001b[39m multi_point\u001b[38;5;241m.\u001b[39mconvex_hull\n\u001b[0;32m      4\u001b[0m \u001b[38;5;66;03m# How many lines do we have inside our MultiLineString?\u001b[39;00m\n\u001b[1;32m----> 5\u001b[0m lines_count \u001b[38;5;241m=\u001b[39m \u001b[38;5;28;43mlen\u001b[39;49m\u001b[43m(\u001b[49m\u001b[43mmulti_line\u001b[49m\u001b[43m)\u001b[49m\n\u001b[0;32m      7\u001b[0m \u001b[38;5;66;03m# Let's calculate the area of our MultiPolygon\u001b[39;00m\n\u001b[0;32m      8\u001b[0m multi_poly_area \u001b[38;5;241m=\u001b[39m multi_poly\u001b[38;5;241m.\u001b[39marea\n",
      "\u001b[1;31mTypeError\u001b[0m: object of type 'MultiLineString' has no len()"
     ]
    }
   ],
   "source": [
    "# Convex Hull of our MultiPoint\n",
    "convex = multi_point.convex_hull\n",
    "\n",
    "# How many lines do we have inside our MultiLineString?\n",
    "lines_count = len(multi_line)\n",
    "\n",
    "# Let's calculate the area of our MultiPolygon\n",
    "multi_poly_area = multi_poly.area\n",
    "\n",
    "# 可以访问几何集合中的不同项。\n",
    "west_area = multi_poly[0].area\n",
    "\n",
    "# 可以检测几何对象是否有效，多边形的环不能有重叠，线几何不能自相交\n",
    "valid = multi_poly.is_valid\n",
    "\n",
    "print(\"Convex hull of the points: \", convex)\n",
    "print(\"Number of lines in MultiLineString:\", lines_count)\n",
    "print(\"Area of our MultiPolygon:\", multi_poly_area)\n",
    "print(\"Area of our Western Hemisphere polygon:\", west_area)\n",
    "print(\"Is polygon valid?: \", valid)"
   ]
  },
  {
   "cell_type": "markdown",
   "id": "474bb6e8",
   "metadata": {
    "user_expressions": []
   },
   "source": [
    "### **几何对象通用属性和方法**   \n",
    "\n",
    "几何对象通用属性和方法如下：\n",
    "   * object.area -- 返回几何对象的面积(float) 。  \n",
    "   * object.bounds -- 返回几何对象的MBR (minx, miny, maxx, maxy) 。  \n",
    "   * object.length -- 返回几何对象的长度。   \n",
    "   * object.minimum_clearance -- 返回可移动节点以生成无效几何对象的最小距离。这可以被认为是几何对象稳健性的度量，其中最小间隙的较大值表示更稳健的几何结构。如果几何对象（如点）不存在最小间隙，则返回math.infinity。\n",
    "   * object.geom_type -- 返回几何对象的字符串几何类型。    \n",
    "   * object.distance(other) -- 返回几何对象与其它几何对象(other)的最短距离(float)。   \n",
    "   * object.hausdorff_distance(other) -- 返回几何对象与其它几何对象(other)的Hausdorff距离。两个几何体之间的Hausdorff距离是任意一个几何对象上的一个点与另一个几何对象上的最近点之间的最远距离。   \n",
    "   * object.representative_point() -- 返回一个廉价计算的点，该点保证位于几何对象内。   \n",
    " "
   ]
  },
  {
   "cell_type": "code",
   "execution_count": null,
   "id": "861122f4",
   "metadata": {},
   "outputs": [],
   "source": [
    "from shapely.geometry import Polygon\n",
    "poly = Polygon([[0, 0], [1, 0], [1, 1], [0, 1], [0, 0]])\n",
    "poly"
   ]
  },
  {
   "cell_type": "code",
   "execution_count": null,
   "id": "f07378ac",
   "metadata": {},
   "outputs": [],
   "source": [
    "poly.minimum_clearance"
   ]
  },
  {
   "cell_type": "code",
   "execution_count": null,
   "id": "c9ee37cc",
   "metadata": {},
   "outputs": [],
   "source": [
    "Point(0, 0).geom_type"
   ]
  },
  {
   "cell_type": "code",
   "execution_count": null,
   "id": "67be252e",
   "metadata": {},
   "outputs": [],
   "source": [
    "print((type(Point(0, 0))))"
   ]
  },
  {
   "cell_type": "code",
   "execution_count": null,
   "id": "1e51e154",
   "metadata": {},
   "outputs": [],
   "source": [
    "Point(0,0).distance(Point(1,1))"
   ]
  },
  {
   "cell_type": "code",
   "execution_count": null,
   "id": "17070140",
   "metadata": {},
   "outputs": [],
   "source": [
    "point = Point(1, 1)\n",
    "line = LineString([(2, 0), (2, 4), (3, 4)])"
   ]
  },
  {
   "cell_type": "code",
   "execution_count": null,
   "id": "e6d192dc",
   "metadata": {},
   "outputs": [],
   "source": [
    "point"
   ]
  },
  {
   "cell_type": "code",
   "execution_count": null,
   "id": "f5fb5192",
   "metadata": {},
   "outputs": [],
   "source": [
    "line"
   ]
  },
  {
   "cell_type": "code",
   "execution_count": null,
   "id": "ff5a1328",
   "metadata": {},
   "outputs": [],
   "source": [
    "point.hausdorff_distance(line)"
   ]
  },
  {
   "cell_type": "code",
   "execution_count": null,
   "id": "4a561d58",
   "metadata": {},
   "outputs": [],
   "source": [
    "point.distance(Point(3, 4))"
   ]
  },
  {
   "cell_type": "code",
   "execution_count": null,
   "id": "103578b1",
   "metadata": {},
   "outputs": [],
   "source": [
    "donut = Point(0, 0).buffer(2.0).difference(Point(0, 0).buffer(1.0))\n",
    "donut.centroid.wkt"
   ]
  },
  {
   "cell_type": "code",
   "execution_count": null,
   "id": "807298c5",
   "metadata": {},
   "outputs": [],
   "source": [
    "donut"
   ]
  },
  {
   "cell_type": "code",
   "execution_count": null,
   "id": "26102854",
   "metadata": {},
   "outputs": [],
   "source": [
    "donut.centroid"
   ]
  },
  {
   "cell_type": "code",
   "execution_count": null,
   "id": "834ef1f3",
   "metadata": {},
   "outputs": [],
   "source": [
    "donut.representative_point()"
   ]
  },
  {
   "cell_type": "code",
   "execution_count": null,
   "id": "ad4bf3f9",
   "metadata": {},
   "outputs": [],
   "source": [
    "donut.representative_point().wkt"
   ]
  },
  {
   "cell_type": "markdown",
   "id": "702b9d99",
   "metadata": {
    "cell_style": "center",
    "tags": [],
    "user_expressions": []
   },
   "source": [
    "## **空间谓词与空间关系**   \n",
    "    \n",
    "几何对象提供了标准谓词作为属性（一元谓词）和方法（二元谓词）。无论一元还是二元谓词，都返回True或False。   \n",
    "\n",
    "### **一元谓词（Unary Predicates）**   \n",
    "\n",
    "标准的一元谓词实现为几何对象的只读属性。   \n",
    "   * **object.has_z**: 如果要素不仅具有x和y坐标，还具有z坐标的3D（或所谓的2.5D）几何图形，则返回True。   \n",
    "   * **object.is_ccw**: 如果坐标按逆时针方向排列（用正号的面积包围一个区域带），则返回True。此方法仅适用于LinearRing对象。   \n",
    "   * **object.is_empty**: 如果要素的内部（interior）和边界（boundary）都为空集，则返回True。   \n",
    "   * **object.is_ring**: 如果要素是闭合的简单LineString，则返回True。闭合线要素的边界（boundary）为空集。此属性适用于LineString和LinearRing实例，对其他实例没有意义。   \n",
    "   * **object.is_simple**: 如果要素没有自相交，则返回True。该属性仅对LineString和LinearRing有意义。\n",
    "   * **object.is_valid**: 如果要素符合OGC简单要素访问规范意义上的“有效”，则返回True。一个有效的LinearRing不能自交叉，或在单个点相接（touch）。有效的多边形不能有任何重叠的外环或内环。有效的MultiPolygon不能有任何重叠的多边形。   \n",
    " "
   ]
  },
  {
   "cell_type": "code",
   "execution_count": null,
   "id": "f33f1d05",
   "metadata": {},
   "outputs": [],
   "source": [
    "Point(0, 0).has_z"
   ]
  },
  {
   "cell_type": "code",
   "execution_count": null,
   "id": "7081d981",
   "metadata": {},
   "outputs": [],
   "source": [
    "Point(0, 0, 0).has_z"
   ]
  },
  {
   "cell_type": "code",
   "execution_count": null,
   "id": "caaf6e44",
   "metadata": {},
   "outputs": [],
   "source": [
    "from shapely.geometry import LinearRing\n",
    "\n",
    "LinearRing([(1,0), (1,1), (0,0)]).is_ccw"
   ]
  },
  {
   "cell_type": "code",
   "execution_count": null,
   "id": "2ceed271",
   "metadata": {},
   "outputs": [],
   "source": [
    "# A ring with an undesired orientation can be reversed like this:\n",
    "\n",
    "ring = LinearRing([(0,0), (1,1), (1,0)])\n",
    "ring.is_ccw"
   ]
  },
  {
   "cell_type": "code",
   "execution_count": null,
   "id": "5658b8fb",
   "metadata": {},
   "outputs": [],
   "source": [
    "ring.coords = list(ring.coords)[::-1]\n",
    "ring.is_ccw"
   ]
  },
  {
   "cell_type": "code",
   "execution_count": null,
   "id": "30b5b8e3",
   "metadata": {},
   "outputs": [],
   "source": [
    "Point().is_empty"
   ]
  },
  {
   "cell_type": "code",
   "execution_count": null,
   "id": "d62a5f79",
   "metadata": {},
   "outputs": [],
   "source": [
    "Point(0, 0).is_empty"
   ]
  },
  {
   "cell_type": "code",
   "execution_count": null,
   "id": "4f9036d9",
   "metadata": {},
   "outputs": [],
   "source": [
    "line = LineString([(0, 0), (1, 1), (1, -1)])\n",
    "line"
   ]
  },
  {
   "cell_type": "code",
   "execution_count": null,
   "id": "37bb044a",
   "metadata": {},
   "outputs": [],
   "source": [
    "line.is_ring"
   ]
  },
  {
   "cell_type": "code",
   "execution_count": null,
   "id": "115d1718",
   "metadata": {},
   "outputs": [],
   "source": [
    "ring = LinearRing([(0, 0), (1, 1), (1, -1)])\n",
    "ring"
   ]
  },
  {
   "cell_type": "code",
   "execution_count": null,
   "id": "aeed2435",
   "metadata": {},
   "outputs": [],
   "source": [
    "ring.is_ring"
   ]
  },
  {
   "cell_type": "code",
   "execution_count": null,
   "id": "14e6033f",
   "metadata": {},
   "outputs": [],
   "source": [
    "line = LineString([(0, 0), (1, 1), (1, -1), (0, 1)])\n",
    "line"
   ]
  },
  {
   "cell_type": "code",
   "execution_count": null,
   "id": "57cfa60b",
   "metadata": {},
   "outputs": [],
   "source": [
    "line.is_simple"
   ]
  },
  {
   "cell_type": "code",
   "execution_count": null,
   "id": "caf75aca",
   "metadata": {},
   "outputs": [],
   "source": [
    "poly = MultiPolygon([Point(0, 0).buffer(2.0), Point(1, 1).buffer(2.0)])\n",
    "poly"
   ]
  },
  {
   "cell_type": "code",
   "execution_count": null,
   "id": "a412f040",
   "metadata": {},
   "outputs": [],
   "source": [
    "poly.is_valid"
   ]
  },
  {
   "cell_type": "markdown",
   "id": "78f8cc44",
   "metadata": {
    "user_expressions": []
   },
   "source": [
    "### **二元谓词（Binary Predicates）**   \n",
    "\n",
    "标准二元谓词作为方法实现。二元谓词用于检测两个几何对象之间的拓扑关系、基于集合理论的关系。二元谓词都以另一个几何对象作为参数，并返回True或False。   \n",
    "   *  **object.__eq__(other)**: 如果两个对象具有相同的几何类型，并且两个对象的坐标精确匹配，则返回True。   \n",
    "   *  **object.equals(other)**: 如果对象的边界、内部和外部与其他对象的边界、内部和外部一致，则返回True。    \n",
    "   传递给对象构造函数的坐标是这些集合的一部分，但不是集合的整体。例如，等效线的构造可以不同。   \n",
    "   * **object.almost_equals(other[, decimal=6])**: 如果对象在指定小数点精度的所有点上都近似等于其它对象上的所有点，则返回True。     \n",
    "   * **object.contains(other)**: 如果该对象包含其它几何对象，则返回True。即：如果其它几何对象没有点位于该几何对象的外部，且其他几何对象内部至少有一个点位于该几何对象内部，则返回True。该谓词适用于所有几何类型，与within（）相反。表达式a.contains(b) == b.within(a).   \n",
    "   * **object.within(other)**: 如果对象的边界和内部仅与另一个对象的内部（而不是其边界或外部）相交，则返回True。a.within(b) == b.contains(a)   \n",
    "   * **object.crosses(other)**: 如果该对象穿越其它对象，则返回True，如线穿越面。即，如果该对象的内部与另一个对象内部相交但不包含该内部，并且相交的维度小于其中一个的维度，则返回True。\n",
    "   * **object.disjoint(other)**: 如果对象的边界和内部与另一个对象的边界和内部完全不相交，则返回True。    \n",
    "   * **object.intersects(other)**: 如果对象的边界或内部以任何方式与其他对象的边界或内部相交，则返回True。换句话说，如果几何对象有共同的边界或内部点，它们就会相交。     \n",
    "   * **object.overlaps(other)**: 如果两个相同几何维度的几何对象具有多个但不是所有的公共点，且它们的内部交集也具有相同的几何维度，则返回True。   \n",
    "   * **object.touches(other)**: 如果两个几何对象至少有一个公共点，并且它们的内部不与另一个的任何部分相交，则返回True。    "
   ]
  },
  {
   "cell_type": "code",
   "execution_count": null,
   "id": "5ab6ca8e",
   "metadata": {},
   "outputs": [],
   "source": [
    "a = LineString([(0, 0), (1, 1)])\n",
    "b = LineString([(0, 0), (0.5, 0.5), (1, 1)])\n",
    "c = LineString([(0, 0), (0, 0), (1, 1)])\n",
    "a.equals(b)"
   ]
  },
  {
   "cell_type": "code",
   "execution_count": null,
   "id": "76fdb8b0",
   "metadata": {},
   "outputs": [],
   "source": [
    "a == b"
   ]
  },
  {
   "cell_type": "code",
   "execution_count": null,
   "id": "67408a14",
   "metadata": {},
   "outputs": [],
   "source": [
    "b.equals(c)"
   ]
  },
  {
   "cell_type": "code",
   "execution_count": null,
   "id": "073b26d2",
   "metadata": {},
   "outputs": [],
   "source": [
    "b == c"
   ]
  },
  {
   "cell_type": "code",
   "execution_count": null,
   "id": "52a0cbbc",
   "metadata": {},
   "outputs": [],
   "source": [
    "coords = [(0, 0), (1, 1)]\n",
    "LineString(coords).contains(Point(0.5, 0.5))"
   ]
  },
  {
   "cell_type": "code",
   "execution_count": null,
   "id": "64a7cff4",
   "metadata": {},
   "outputs": [],
   "source": [
    "Point(0.5, 0.5).within(LineString(coords))"
   ]
  },
  {
   "cell_type": "code",
   "execution_count": null,
   "id": "7710ea07",
   "metadata": {},
   "outputs": [],
   "source": [
    "LineString(coords).contains(Point(1.0, 1.0))"
   ]
  },
  {
   "cell_type": "code",
   "execution_count": null,
   "id": "a8b1e78a",
   "metadata": {},
   "outputs": [],
   "source": [
    "LineString(coords).crosses(LineString([(0, 1), (1, 0)]))"
   ]
  },
  {
   "cell_type": "code",
   "execution_count": null,
   "id": "097910f5",
   "metadata": {},
   "outputs": [],
   "source": [
    "LineString(coords).crosses(Point(0.5, 0.5))"
   ]
  },
  {
   "cell_type": "code",
   "execution_count": null,
   "id": "eab37dc3",
   "metadata": {},
   "outputs": [],
   "source": [
    "Point(0, 0).disjoint(Point(1, 1))\n",
    "\n",
    "a = LineString([(0, 0), (1, 1)])\n",
    "b = LineString([(1, 1), (2, 2)])\n",
    "a.touches(b)"
   ]
  },
  {
   "cell_type": "markdown",
   "id": "7477279b",
   "metadata": {
    "user_expressions": []
   },
   "source": [
    "### **九交模型关系**   \n",
    "\n",
    "两个几何对象之间的空间关系通常可以通过基于维数扩展的九交模型（DE-9IM）即九交矩阵来表达，反过来，也可以给定一个九交矩阵（或对应的字符串），来检测两个几何对象是否满足九交矩阵对应的空间关系。   \n",
    "* **object.relate(other)**: 返回该对象的内部、边界、外部和其他几何对象的内部、边界、外部之间关系的DE-9IM矩阵的字符串表示。   \n",
    "* **object.relate_pattern(other, pattern)**: 如果几何对象空间关系的DE-9IM字符串满足pattern模式，则返回True，否则返回False。relate_pattern()将两个几何对象空间关系的DE-9IM字符串与指定的模式进行比较，如果字符串与模式匹配，则返回True，否则返回False。指定的模式可以是完全匹配（0、1或2）、布尔匹配（T或F）或```通配符（*）```。例如，within谓词的模式是```T******FF*```。   "
   ]
  },
  {
   "cell_type": "code",
   "execution_count": null,
   "id": "0240f4ee",
   "metadata": {},
   "outputs": [],
   "source": [
    "Point(0, 0).relate(Point(1, 1))"
   ]
  },
  {
   "cell_type": "code",
   "execution_count": null,
   "id": "a7cda74a",
   "metadata": {},
   "outputs": [],
   "source": [
    "Point(0, 0).relate(LineString([(0, 0), (1, 1)]))"
   ]
  },
  {
   "cell_type": "code",
   "execution_count": 7,
   "id": "db4238fb",
   "metadata": {},
   "outputs": [
    {
     "data": {
      "text/plain": [
       "True"
      ]
     },
     "execution_count": 7,
     "metadata": {},
     "output_type": "execute_result"
    }
   ],
   "source": [
    "point = Point(0.5, 0.5)\n",
    "square = Polygon([(0, 0), (0, 1), (1, 1), (1, 0)])\n",
    "square.relate_pattern(point, 'T*****FF*')"
   ]
  },
  {
   "cell_type": "code",
   "execution_count": null,
   "id": "db396118",
   "metadata": {},
   "outputs": [],
   "source": [
    "point.within(square)"
   ]
  },
  {
   "cell_type": "code",
   "execution_count": null,
   "id": "5eeae2f9",
   "metadata": {},
   "outputs": [],
   "source": [
    "# Note that the order or the geometries is significant, as demonstrated below. \n",
    "# In this example the square contains the point, but the point does not contain the square.\n",
    "point.relate(square)"
   ]
  },
  {
   "cell_type": "code",
   "execution_count": null,
   "id": "2398dcc8",
   "metadata": {},
   "outputs": [],
   "source": [
    "square.relate(point)"
   ]
  },
  {
   "cell_type": "markdown",
   "id": "edbe92ba",
   "metadata": {
    "tags": [],
    "user_expressions": []
   },
   "source": [
    "## **空间操作运算**   \n",
    "\n",
    "Shapely还提供了空间操作运算来产生新的几何对象。   \n",
    "    \n",
    "### **基于集合理论的操作运算**   \n",
    "\n",
    "几乎每个二元谓词方法都有一个对应的空间操作运算返回一个新的几何对象。此外，几何对象的边界为只读属性。\n",
    "空间操作运算总是返回一个几何对象。例如，不相交几何对象的交集将返回空的GeometryCollection，而不是None或False。若要测试一个几何对象是否为空，可以使用is_empty属性。   \n",
    "* **object.boundary**：返回几何对象的边界。多边形的边界为线（即多边形的边界环），线的边界是点的集合（即线几何的端点），点的边界是空集（null）。   \n",
    "    "
   ]
  },
  {
   "cell_type": "code",
   "execution_count": null,
   "id": "603cc12d",
   "metadata": {},
   "outputs": [],
   "source": [
    "coords = [((0, 0), (1, 1)), ((-1, 0), (1, 0))]\n",
    "lines = MultiLineString(coords)\n",
    "lines"
   ]
  },
  {
   "cell_type": "code",
   "execution_count": null,
   "id": "ef753294",
   "metadata": {},
   "outputs": [],
   "source": [
    "lines.boundary"
   ]
  },
  {
   "cell_type": "code",
   "execution_count": null,
   "id": "e1e0fef2",
   "metadata": {},
   "outputs": [],
   "source": [
    "print(list(lines.boundary))"
   ]
  },
  {
   "cell_type": "code",
   "execution_count": null,
   "id": "9972e929",
   "metadata": {},
   "outputs": [],
   "source": [
    "list(lines.boundary)"
   ]
  },
  {
   "cell_type": "code",
   "execution_count": null,
   "id": "8c87748c",
   "metadata": {},
   "outputs": [],
   "source": [
    "print(lines.boundary.boundary)"
   ]
  },
  {
   "cell_type": "markdown",
   "id": "c7ebf789",
   "metadata": {
    "user_expressions": []
   },
   "source": [
    "* **object.centroid**：返回几何对象的质心(point)。   "
   ]
  },
  {
   "cell_type": "code",
   "execution_count": null,
   "id": "1f76610e",
   "metadata": {},
   "outputs": [],
   "source": [
    "LineString([(0, 0), (1, 1)]).centroid"
   ]
  },
  {
   "cell_type": "code",
   "execution_count": null,
   "id": "b0dfad02",
   "metadata": {},
   "outputs": [],
   "source": [
    "LineString([(0, 0), (1, 1)]).centroid.wkt"
   ]
  },
  {
   "cell_type": "markdown",
   "id": "e2dc236f",
   "metadata": {
    "user_expressions": []
   },
   "source": [
    "* **object.difference(other)**: 该几何对象去除与其它几何对象的公共部分。   "
   ]
  },
  {
   "cell_type": "code",
   "execution_count": null,
   "id": "08c36e5b",
   "metadata": {},
   "outputs": [],
   "source": [
    "a = Point(1, 1).buffer(1.5)\n",
    "a"
   ]
  },
  {
   "cell_type": "code",
   "execution_count": null,
   "id": "f8fabcfe",
   "metadata": {},
   "outputs": [],
   "source": [
    "b = Point(2, 1).buffer(1.5)\n",
    "b"
   ]
  },
  {
   "cell_type": "code",
   "execution_count": null,
   "id": "576aec51",
   "metadata": {},
   "outputs": [],
   "source": [
    "a.difference(b)"
   ]
  },
  {
   "cell_type": "markdown",
   "id": "ec48c509",
   "metadata": {
    "user_expressions": []
   },
   "source": [
    "* **object.intersection(other)**: 返回两个几何对象的交集（即公共部分）。   "
   ]
  },
  {
   "cell_type": "code",
   "execution_count": null,
   "id": "98eece4a",
   "metadata": {},
   "outputs": [],
   "source": [
    "a = Point(1, 1).buffer(1.5)\n",
    "b = Point(2, 1).buffer(1.5)\n",
    "a.intersection(b)"
   ]
  },
  {
   "cell_type": "markdown",
   "id": "18d8d651",
   "metadata": {
    "user_expressions": []
   },
   "source": [
    "* **object.symmetric_difference(other)**: 去除两个几何对象的公共部分，其余部分保留。  "
   ]
  },
  {
   "cell_type": "code",
   "execution_count": null,
   "id": "9a9ce661",
   "metadata": {},
   "outputs": [],
   "source": [
    "a = Point(1, 1).buffer(1.5)\n",
    "b = Point(2, 1).buffer(1.5)\n",
    "a.symmetric_difference(b)"
   ]
  },
  {
   "cell_type": "markdown",
   "id": "c748d130",
   "metadata": {
    "user_expressions": []
   },
   "source": [
    "* **object.union(other)**: 返回两个几何对象的并集（即所有部分）。   \n"
   ]
  },
  {
   "cell_type": "code",
   "execution_count": null,
   "id": "8f51de2c",
   "metadata": {},
   "outputs": [],
   "source": [
    "a = Point(1, 1).buffer(1.5)\n",
    "b = Point(2, 1).buffer(1.5)\n",
    "a.union(b)"
   ]
  },
  {
   "cell_type": "code",
   "execution_count": null,
   "id": "934fbf89",
   "metadata": {},
   "outputs": [],
   "source": [
    "a.union(b).boundary"
   ]
  },
  {
   "cell_type": "code",
   "execution_count": null,
   "id": "6908075e",
   "metadata": {},
   "outputs": [],
   "source": [
    "a.boundary.union(b.boundary)"
   ]
  },
  {
   "cell_type": "markdown",
   "id": "ef957348",
   "metadata": {
    "user_expressions": []
   },
   "source": [
    "* **object.buffer(distance, resolution=16, cap_style=1, join_style=1, mitre_limit=5.0, single_sided=False)**: 返回几何对象给定距离的缓冲区多边形。   \n",
    "   **cap_style**参数: 用于确定线末端缓冲类型：1 (round，圆头), 2 (flat, 扁平), 3 (square，方形)，对应shapely.geometry.CAP_STYLE的值。    \n",
    "   **join_style**参数: 用于确定线段之间连接类型：1 (round，圆头), 2 (mitre，锐角斜接), 3 (bevel，平头斜切)，对应shapely.geometry.JOIN_STYLE 的值。   \n",
    "   可选的**resolution参数**：确定用于表达四分之一圆弧的线段数。   \n",
    "   **distance**：正距离具有扩张效应，正常的内外缓冲；负距离表现为侵蚀效应，一般仅做内缓冲。   \n",
    "\n",
    "```{figure} ./Resources/buffer.png\n",
    ":name: buffer\n",
    ":alt: buffer\n",
    ":width: 50%\n",
    ":align: center\n",
    "```\n",
    "<center>图2-2 创建缓冲区示意图</center>           \n",
    "\n",
    "   **single_sided**: 为True，仅做单边缓冲；distance为正，做左边缓冲；distance为负，做右边缓冲。   \n",
    "```{figure} ./Resources/buffer_single_side.png\n",
    ":name: buffer_single_side\n",
    ":alt: buffer_single_side\n",
    ":width: 50%\n",
    ":align: center\n",
    "```\n",
    "<center>图2-3 创建单边缓冲区示意图</center>                  \n"
   ]
  },
  {
   "cell_type": "code",
   "execution_count": null,
   "id": "6fb1e50d",
   "metadata": {},
   "outputs": [],
   "source": [
    "from shapely.geometry import CAP_STYLE, JOIN_STYLE\n",
    "CAP_STYLE.flat"
   ]
  },
  {
   "cell_type": "code",
   "execution_count": null,
   "id": "46422bbb",
   "metadata": {},
   "outputs": [],
   "source": [
    "JOIN_STYLE.bevel"
   ]
  },
  {
   "cell_type": "code",
   "execution_count": null,
   "id": "dfd5d434",
   "metadata": {},
   "outputs": [],
   "source": [
    "line = LineString([(0, 0), (1, 1), (0, 2), (2, 2), (3, 1), (1, 0)])\n",
    "line"
   ]
  },
  {
   "cell_type": "code",
   "execution_count": null,
   "id": "22b21c58",
   "metadata": {},
   "outputs": [],
   "source": [
    "dilated = line.buffer(0.5)\n",
    "dilated"
   ]
  },
  {
   "cell_type": "code",
   "execution_count": null,
   "id": "6efee8c2",
   "metadata": {},
   "outputs": [],
   "source": [
    "eroded = dilated.buffer(-0.3)\n",
    "eroded"
   ]
  },
  {
   "cell_type": "code",
   "execution_count": null,
   "id": "e20f16d2",
   "metadata": {},
   "outputs": [],
   "source": [
    "line = LineString([(0, 0), (1, 1), (0, 2), (2, 2), (3, 1), (1, 0)])\n",
    "left_hand_side = line.buffer(0.5, single_sided=True)\n",
    "left_hand_side"
   ]
  },
  {
   "cell_type": "code",
   "execution_count": null,
   "id": "a191dc7c",
   "metadata": {},
   "outputs": [],
   "source": [
    "right_hand_side = line.buffer(-0.3, single_sided=True)\n",
    "right_hand_side"
   ]
  },
  {
   "cell_type": "markdown",
   "id": "0b82b75a",
   "metadata": {
    "user_expressions": []
   },
   "source": [
    "   * **object.convex_hull**: 返回几何对象（构成几何对象的点数>=3）的最小凸多边形；点数为2时，最小凸多边形退化为一线段；点数为1时，最小凸多边形退化为一个点。   "
   ]
  },
  {
   "cell_type": "code",
   "execution_count": null,
   "id": "3627c195",
   "metadata": {},
   "outputs": [],
   "source": [
    "Point(0, 0).convex_hull"
   ]
  },
  {
   "cell_type": "code",
   "execution_count": null,
   "id": "b39f368e",
   "metadata": {},
   "outputs": [],
   "source": [
    "MultiPoint([(0, 0), (1, 1)]).convex_hull"
   ]
  },
  {
   "cell_type": "code",
   "execution_count": null,
   "id": "26fbbc11",
   "metadata": {},
   "outputs": [],
   "source": [
    "MultiPoint([(0, 0), (1, 1), (1, -1)]).convex_hull"
   ]
  },
  {
   "cell_type": "markdown",
   "id": "c3395f5f",
   "metadata": {
    "user_expressions": []
   },
   "source": [
    "* **object.envelope**: 返回几何对象的最小外包矩形MBR，MBR的两边平行于坐标轴。   "
   ]
  },
  {
   "cell_type": "code",
   "execution_count": null,
   "id": "8844af0b",
   "metadata": {},
   "outputs": [],
   "source": [
    "Point(0, 0).envelope"
   ]
  },
  {
   "cell_type": "code",
   "execution_count": null,
   "id": "804d5c1b",
   "metadata": {},
   "outputs": [],
   "source": [
    "MultiPoint([(0, 0), (1, 1)]).envelope"
   ]
  },
  {
   "cell_type": "markdown",
   "id": "d3743a27",
   "metadata": {
    "user_expressions": []
   },
   "source": [
    "* **object.minimum_rotated_rectangle**: 返回最小外包矩形，不要求与坐标轴平行，可旋转。  "
   ]
  },
  {
   "cell_type": "code",
   "execution_count": null,
   "id": "0fbc86b0",
   "metadata": {},
   "outputs": [],
   "source": [
    "Point(0, 0).minimum_rotated_rectangle"
   ]
  },
  {
   "cell_type": "code",
   "execution_count": null,
   "id": "64e6fae4",
   "metadata": {},
   "outputs": [],
   "source": [
    "MultiPoint([(0,0),(1,1),(2,0.5)]).minimum_rotated_rectangle"
   ]
  },
  {
   "cell_type": "markdown",
   "id": "4bc39a55",
   "metadata": {
    "user_expressions": []
   },
   "source": [
    "* **object.parallel_offset(distance, side, resolution=16, join_style=1, mitre_limit=5.0)**: 返回距离对象右侧或左侧一定距离的LineString或MultiLineString几何对象。   \n",
    "\n",
    "   **distance**参数：必须为正的浮点数。  \n",
    "   **side**参数：为‘left’ 或 ‘right’. ‘left’ 、 ‘right’是根据LineString的给定几何点的方向来确定的。右侧偏移，按与原始线串或线环相反的方向返回，而左侧偏移，按与原始线串或线环相同的方向返回。   \n",
    "   **resolution**参数：确定用于表达四分之一圆弧的线段数。   \n",
    "   **join_style**参数：用于线段之间连接类型：1 (round，圆头), 2 (mitre，锐角斜接), 3 (bevel，平头斜切)。   \n",
    "   **mitre_limit**参数：用于控制斜接角（mitre）。平行线的转角将比斜接样式的大多数地方离原始位置更远。此距离与指定距离**distance**的比值为斜接比。比例超过限制的角将被平头斜切（bevel）。\n",
    "   该方法仅适用于LinearRing和LineString.      \n",
    "\n",
    "```{figure} ./Resources/对象平行偏移示意图.png\n",
    ":name: 对象平行偏移示意图\n",
    ":alt: 对象平行偏移示意图\n",
    ":width: 50%\n",
    ":align: center\n",
    "```        \n",
    "<center>图2-4 对象平行偏移示意图</center>          "
   ]
  },
  {
   "cell_type": "markdown",
   "id": "c08198a4",
   "metadata": {
    "user_expressions": []
   },
   "source": [
    "* **object.simplify(tolerance, preserve_topology=True)**: 返回简化后的几何对象。    \n",
    "   简化对象中的所有点都将在原始几何图形的容差范围内。默认情况下，使用较慢的算法来保留拓扑。如果preserve topology设置为False，则使用更快的Douglas-Peucker算法。   \n",
    "\n",
    "```{figure} ./Resources/对象简化示意图.png\n",
    ":name: 对象简化示意图\n",
    ":alt: 对象简化示意图\n",
    ":width: 50%\n",
    ":align: center\n",
    "```        \n",
    "\n",
    "<center>图2-5 对象简化示意图</center>          "
   ]
  },
  {
   "cell_type": "code",
   "execution_count": null,
   "id": "8c1f21ad",
   "metadata": {},
   "outputs": [],
   "source": [
    "p = Point(0.0, 0.0)\n",
    "x = p.buffer(1.0)\n",
    "x.area"
   ]
  },
  {
   "cell_type": "code",
   "execution_count": null,
   "id": "7ec2ffc0",
   "metadata": {},
   "outputs": [],
   "source": [
    "len(x.exterior.coords)"
   ]
  },
  {
   "cell_type": "code",
   "execution_count": null,
   "id": "09fc2e98",
   "metadata": {},
   "outputs": [],
   "source": [
    "s = x.simplify(0.05, preserve_topology=False)\n",
    "s.area"
   ]
  },
  {
   "cell_type": "code",
   "execution_count": null,
   "id": "fdd954a5",
   "metadata": {},
   "outputs": [],
   "source": [
    "len(s.exterior.coords)"
   ]
  },
  {
   "cell_type": "markdown",
   "id": "d081a877",
   "metadata": {
    "user_expressions": []
   },
   "source": [
    "### **其它操作运算**    \n",
    "\n",
    "   * **shapely.ops.polygonize(lines)**: 由线几何生成多边形几何对象，返回由输入线构造的多边形的迭代器。      "
   ]
  },
  {
   "cell_type": "code",
   "execution_count": null,
   "id": "15aef9a1",
   "metadata": {},
   "outputs": [],
   "source": [
    "from shapely.geometry import MultiLineString, MultiPolygon, MultiPoint\n",
    "from shapely.ops import polygonize, polygonize_full, linemerge, unary_union, triangulate\n",
    "lines = MultiLineString([\n",
    "    ((0, 0), (1, 1)),\n",
    "    ((0, 0), (0, 1)),\n",
    "    ((0, 1), (1, 1)),\n",
    "    ((1, 1), (1, 0)),\n",
    "    ((1, 0), (0, 0))\n",
    "])\n",
    "lines"
   ]
  },
  {
   "cell_type": "code",
   "execution_count": null,
   "id": "03574b8e",
   "metadata": {},
   "outputs": [],
   "source": [
    "polys = polygonize(lines)\n",
    "polylist = list(polys)\n",
    "polylist[0] "
   ]
  },
  {
   "cell_type": "code",
   "execution_count": null,
   "id": "b8ed1d38",
   "metadata": {},
   "outputs": [],
   "source": [
    "mp = MultiPolygon(polylist)\n",
    "mp"
   ]
  },
  {
   "cell_type": "markdown",
   "id": "2eb5c9e7",
   "metadata": {
    "user_expressions": []
   },
   "source": [
    "   * **shapely.ops.polygonize_full(lines)**: 返回多边形及剩余的线几何。   "
   ]
  },
  {
   "cell_type": "code",
   "execution_count": null,
   "id": "ffeccc75",
   "metadata": {},
   "outputs": [],
   "source": [
    "lines =  MultiLineString([\n",
    "    ((0, 0), (4, 0)),\n",
    "    ((4, 0), (4, 4)),\n",
    "    ((4, 4), (0, 4)),\n",
    "    ((0, 4), (0, 0)),\n",
    "    ((4, 0), (8, 0)),\n",
    "    ((8, 0), (8, 4)),\n",
    "    ((8, 4), (4, 4)),\n",
    "    ((4, 4), (4, 0)),\n",
    "    ((5, 7), (8, 11)),\n",
    "    ((10, 5), (8, 10))\n",
    "]) \n",
    "lines"
   ]
  },
  {
   "cell_type": "code",
   "execution_count": null,
   "id": "d7c029ea",
   "metadata": {},
   "outputs": [],
   "source": [
    "result, dangles, cuts, invalids = polygonize_full(lines)\n",
    "result"
   ]
  },
  {
   "cell_type": "code",
   "execution_count": null,
   "id": "6a6dbc10",
   "metadata": {},
   "outputs": [],
   "source": [
    "cuts"
   ]
  },
  {
   "cell_type": "code",
   "execution_count": null,
   "id": "f8eb34ec",
   "metadata": {},
   "outputs": [],
   "source": [
    "dangles"
   ]
  },
  {
   "cell_type": "code",
   "execution_count": null,
   "id": "c8723066",
   "metadata": {},
   "outputs": [],
   "source": [
    "dangles.wkt"
   ]
  },
  {
   "cell_type": "markdown",
   "id": "e366ca93",
   "metadata": {
    "user_expressions": []
   },
   "source": [
    "   * **shapely.ops.linemerge(lines)**: 返回合并后的线几何：LineString或MultiLineString。   "
   ]
  },
  {
   "cell_type": "code",
   "execution_count": null,
   "id": "465b83b3",
   "metadata": {},
   "outputs": [],
   "source": [
    "ml = linemerge(lines)\n",
    "ml"
   ]
  },
  {
   "cell_type": "code",
   "execution_count": null,
   "id": "1e9caa9e",
   "metadata": {},
   "outputs": [],
   "source": [
    "len(ml)"
   ]
  },
  {
   "cell_type": "code",
   "execution_count": null,
   "id": "870ce226",
   "metadata": {},
   "outputs": [],
   "source": [
    "print(list(linemerge(lines)))"
   ]
  },
  {
   "cell_type": "markdown",
   "id": "62b1ba48",
   "metadata": {
    "user_expressions": []
   },
   "source": [
    "   * **shapely.ops.unary_union(geoms)**: 返回geoms的并集。  "
   ]
  },
  {
   "cell_type": "code",
   "execution_count": null,
   "id": "dc9e08fe",
   "metadata": {},
   "outputs": [],
   "source": [
    "polygons = [Point(i, 0).buffer(0.7) for i in range(5)]\n",
    "mp = MultiPolygon(polygons)\n",
    "mp"
   ]
  },
  {
   "cell_type": "code",
   "execution_count": null,
   "id": "e65ab67c",
   "metadata": {},
   "outputs": [],
   "source": [
    "poly = unary_union(polygons)\n",
    "poly"
   ]
  },
  {
   "cell_type": "markdown",
   "id": "fede559d",
   "metadata": {
    "user_expressions": []
   },
   "source": [
    "   * **shapely.ops.triangulate(geom, tolerance=0.0, edges=False)**: 构建三角网。   "
   ]
  },
  {
   "cell_type": "code",
   "execution_count": null,
   "id": "5694f0e8",
   "metadata": {},
   "outputs": [],
   "source": [
    "points = MultiPoint([(0, 0), (1, 1), (0, 2), (2, 2), (3, 1), (1, 0)])\n",
    "triangles = triangulate(points)\n",
    "mp = MultiPolygon(triangles)\n",
    "mp"
   ]
  },
  {
   "cell_type": "code",
   "execution_count": null,
   "id": "93f0f782",
   "metadata": {},
   "outputs": [],
   "source": [
    "print([triangle.wkt for triangle in triangles])"
   ]
  },
  {
   "cell_type": "code",
   "execution_count": null,
   "id": "4614d510",
   "metadata": {},
   "outputs": [],
   "source": [
    "type(triangles)"
   ]
  },
  {
   "cell_type": "markdown",
   "id": "9f4cb9f6",
   "metadata": {
    "user_expressions": []
   },
   "source": [
    "   * **shapely.ops.nearest_points(geom1, geom2)**: 返回输入几何图形中最近点的元组。返回点的顺序与输入几何图形的顺序相同。   "
   ]
  },
  {
   "cell_type": "code",
   "execution_count": null,
   "id": "a0dadb4b",
   "metadata": {},
   "outputs": [],
   "source": [
    "from shapely.ops import nearest_points \n",
    "\n",
    "triangle = Polygon([(0, 0), (1, 0), (0.5, 1), (0, 0)])\n",
    "triangle"
   ]
  },
  {
   "cell_type": "code",
   "execution_count": null,
   "id": "06f7c7fa",
   "metadata": {},
   "outputs": [],
   "source": [
    "square = Polygon([(0, 2), (1, 2), (1, 3), (0, 3), (0, 2)])\n",
    "square"
   ]
  },
  {
   "cell_type": "code",
   "execution_count": null,
   "id": "4cfb76f9",
   "metadata": {},
   "outputs": [],
   "source": [
    "[o.wkt for o in nearest_points(triangle, square)]"
   ]
  },
  {
   "cell_type": "markdown",
   "id": "1770cb43",
   "metadata": {
    "user_expressions": []
   },
   "source": [
    "   * **shapely.ops.snap(geom1, geom2, tolerance)**: 将geom1中的顶点捕捉到geom2中的顶点。将返回捕捉的几何图形的副本，不会修改输入几何图形。    "
   ]
  },
  {
   "cell_type": "code",
   "execution_count": null,
   "id": "74b8c61c",
   "metadata": {},
   "outputs": [],
   "source": [
    "from shapely.ops import snap\n",
    "\n",
    "square = Polygon([(1,1), (2, 1), (2, 2), (1, 2), (1, 1)])\n",
    "square"
   ]
  },
  {
   "cell_type": "code",
   "execution_count": null,
   "id": "0ebf16a1",
   "metadata": {},
   "outputs": [],
   "source": [
    "line = LineString([(0,0), (0.8, 0.8), (1.8, 0.95), (2.6, 0.5)])\n",
    "line"
   ]
  },
  {
   "cell_type": "code",
   "execution_count": null,
   "id": "4864d0fd",
   "metadata": {},
   "outputs": [],
   "source": [
    "result = snap(line, square, 0.5)\n",
    "result"
   ]
  },
  {
   "cell_type": "code",
   "execution_count": null,
   "id": "cc774948",
   "metadata": {},
   "outputs": [],
   "source": [
    "result.wkt"
   ]
  },
  {
   "cell_type": "markdown",
   "id": "3a13702b",
   "metadata": {
    "user_expressions": []
   },
   "source": [
    "   * **shapely.ops.shared_paths(geom1, geom2)**:    \n",
    "    当两个几何图形都为LineStrings时，查找geom1和geom2之间的共享路径。     \n",
    "    当两个几何图形为GeometryCollection时，返回两个元素。第一个元素是包含两个输入方向相同的共享路径，第二个元素是包含两个输入方向相反的共享路径。   "
   ]
  },
  {
   "cell_type": "code",
   "execution_count": null,
   "id": "b49a4f38",
   "metadata": {},
   "outputs": [],
   "source": [
    "import shapely.ops\n",
    "\n",
    "g1 = LineString([(0, 0), (10, 0), (10, 5), (20, 5)])\n",
    "g2 = LineString([(5, 0), (30, 0), (30, 5), (0, 5)])\n",
    "forward, backward = shapely.ops.shared_paths(g1, g2)"
   ]
  },
  {
   "cell_type": "code",
   "execution_count": null,
   "id": "ecf0b4d0",
   "metadata": {},
   "outputs": [],
   "source": [
    "forward.wkt"
   ]
  },
  {
   "cell_type": "code",
   "execution_count": null,
   "id": "1b9e2877",
   "metadata": {},
   "outputs": [],
   "source": [
    "backward.wkt"
   ]
  },
  {
   "cell_type": "markdown",
   "id": "8ba98d8c",
   "metadata": {
    "user_expressions": []
   },
   "source": [
    "   * **shapely.ops.split(geom, splitter)**:    \n",
    "    一个几何对象被另一个几何对象拆分（分割），返回拆分后的几何对象的集合GEOMETRYCOLLECTION。该方法支持：   \n",
    "    用(Multi)Point或(Multi)LineString 或(Multi)Polygon的边界拆分（分割）(Multi)LineString。\n",
    "    用LineString拆分（分割）(Multi)Polygon。   "
   ]
  },
  {
   "cell_type": "code",
   "execution_count": null,
   "id": "cfd67d82",
   "metadata": {},
   "outputs": [],
   "source": [
    "from shapely.ops import split\n",
    "\n",
    "pt = Point((1, 1))\n",
    "line = LineString([(0,0), (2,2)])\n",
    "result = split(line, pt)\n",
    "result"
   ]
  },
  {
   "cell_type": "code",
   "execution_count": null,
   "id": "6d09c5b1",
   "metadata": {},
   "outputs": [],
   "source": [
    "result.wkt"
   ]
  },
  {
   "cell_type": "markdown",
   "id": "483c3d13",
   "metadata": {
    "user_expressions": []
   },
   "source": [
    "   * **shapely.ops.substring(geom, start_dist, end_dist[, normalized=False])**: 返回沿线几何对象指定距离之间的线段。   "
   ]
  },
  {
   "cell_type": "code",
   "execution_count": null,
   "id": "1a739af7",
   "metadata": {},
   "outputs": [],
   "source": [
    "from shapely.ops import substring\n",
    "\n",
    "line = LineString(([0, 0], [2, 0]))\n",
    "result = substring(line, 0.5, 0.6)\n",
    "result"
   ]
  },
  {
   "cell_type": "code",
   "execution_count": null,
   "id": "823c03d6",
   "metadata": {},
   "outputs": [],
   "source": [
    "result.wkt"
   ]
  },
  {
   "cell_type": "markdown",
   "id": "c7f55262",
   "metadata": {
    "tags": [],
    "user_expressions": []
   },
   "source": [
    "### **仿射变换**   \n",
    "\n",
    "shapely.affinity模块提供了一组仿射变换函数，它们通过直接将系数提供给仿射变换矩阵，或通过使用特定的命名变换（旋转、缩放等）来返回变换后的几何图形。这些函数可以用于所有几何类型（GeometryCollection除外）。   \n",
    "\n",
    "   * **shapely.affinity.affine_transform(geom, matrix)**: 使用仿射变换矩阵返回变换后的几何对象。   \n",
    "   系数矩阵以列表或元组的形式提供，分别为6项或12项用于二维或三维变换。\n",
    "   对应二维变换，6参数矩阵为：\\[a, b, d, e, xoff, yoff\\]，对应的仿射变换如图2-6所示。   \n",
    "       \n",
    "```{figure} ./Resources/六参数仿射变换.png\n",
    ":name: 六参数仿射变换\n",
    ":alt: 六参数仿射变换\n",
    ":width: 50%\n",
    ":align: center\n",
    "``` \n",
    "<center>图2-6 六参数仿射变换</center>              \n",
    "\n",
    "   对应三维变换，12参数矩阵为：\\[a, b, c, d, e, f, g, h, i, xoff, yoff, zoff\\]，对应的仿射变换如图2-7所示。   \n",
    "   \n",
    "```{figure} ./Resources/十二参数仿射变换.png\n",
    ":name: 十二参数仿射变换\n",
    ":alt: 十二参数仿射变换\n",
    ":width: 50%\n",
    ":align: center\n",
    "``` \n",
    "<center>图2-7 十二参数仿射变换</center>                  \n",
    "\n",
    "   * **shapely.affinity.rotate(geom, angle, origin='center', use_radians=False)**: 返回二维平面上旋转后的几何对象。   \n",
    "   旋转角度angle参数：可以通过use_radians参数设置为度（默认）或弧度。正角度是逆时针方向，负角度是顺时针方向。    \n",
    "   旋转原点origin参数：取值为“center”（默认）、“centroid”（几何体的质心）、点对象或坐标元组（x0，y0）。    \n",
    "   二维旋转角度θ的仿射变换矩阵如图2-8所示。   \n",
    "   \n",
    "```{figure} ./Resources/旋转仿射变换.png\n",
    ":name: 旋转仿射变换\n",
    ":alt: 旋转仿射变换\n",
    ":width: 40%\n",
    ":align: center\n",
    "```    \n",
    "<center>图2-8 旋转仿射变换</center>                      \n",
    " \n",
    "   使用不同的原点逆时针旋转90度，如图2-9所示。  \n",
    "       \n",
    "```{figure} ./Resources/不同原点逆时针旋转90度变换.png\n",
    ":name: 不同原点逆时针旋转90度变换\n",
    ":alt: 不同原点逆时针旋转90度变换\n",
    ":width: 60%\n",
    ":align: center\n",
    "``` \n",
    "\n",
    "<center>图2-9 不同原点逆时针旋转90度变换</center>   \n",
    "\n",
    "   * **shapely.affinity.scale(geom, xfact=1.0, yfact=1.0, zfact=1.0, origin='center')**: 返回缩放后的几何对象。   \n",
    "   * **shapely.affinity.skew(geom, xs=0.0, ys=0.0, origin='center', use_radians=False)**: 返回一个倾斜后的几何对象。   \n",
    "   * **shapely.affinity.translate(geom, xoff=0.0, yoff=0.0, zoff=0.0)**: 返回平移后的几何对象。   \n",
    "      \n",
    "**其它变换**   \n",
    "   Shapely支持几何对象的地图投影和任意变换。    \n",
    "\n",
    "   * **shapely.ops.transform(func, geom)**   \n",
    "   将func应用于geom的所有坐标，并从变换后的坐标中返回相同类型的新几何对象。 "
   ]
  },
  {
   "cell_type": "code",
   "execution_count": null,
   "id": "2cd684b9",
   "metadata": {},
   "outputs": [],
   "source": [
    "from shapely import affinity\n",
    "line = LineString([(1, 3), (1, 1), (4, 1)])\n",
    "line"
   ]
  },
  {
   "cell_type": "code",
   "execution_count": null,
   "id": "3821e611",
   "metadata": {},
   "outputs": [],
   "source": [
    "rotated_a = affinity.rotate(line, 90)\n",
    "rotated_a"
   ]
  },
  {
   "cell_type": "code",
   "execution_count": null,
   "id": "a9cab3e6",
   "metadata": {},
   "outputs": [],
   "source": [
    "rotated_b = affinity.rotate(line, 90, origin='centroid')\n",
    "rotated_b"
   ]
  },
  {
   "cell_type": "code",
   "execution_count": null,
   "id": "e270dcf2",
   "metadata": {},
   "outputs": [],
   "source": []
  }
 ],
 "metadata": {
  "kernelspec": {
   "display_name": "Python 3 (ipykernel)",
   "language": "python",
   "name": "python3"
  },
  "language_info": {
   "codemirror_mode": {
    "name": "ipython",
    "version": 3
   },
   "file_extension": ".py",
   "mimetype": "text/x-python",
   "name": "python",
   "nbconvert_exporter": "python",
   "pygments_lexer": "ipython3",
   "version": "3.10.11"
  },
  "toc": {
   "base_numbering": 1,
   "nav_menu": {},
   "number_sections": true,
   "sideBar": true,
   "skip_h1_title": false,
   "title_cell": "Table of Contents",
   "title_sidebar": "Contents",
   "toc_cell": false,
   "toc_position": {},
   "toc_section_display": true,
   "toc_window_display": true
  },
  "toc-autonumbering": true,
  "toc-showcode": false,
  "toc-showmarkdowntxt": false,
  "toc-showtags": false,
  "widgets": {
   "application/vnd.jupyter.widget-state+json": {
    "state": {},
    "version_major": 2,
    "version_minor": 0
   }
  }
 },
 "nbformat": 4,
 "nbformat_minor": 5
}